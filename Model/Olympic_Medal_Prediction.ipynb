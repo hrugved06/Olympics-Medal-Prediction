{
  "nbformat": 4,
  "nbformat_minor": 2,
  "metadata": {
    "colab": {
      "name": "Olympic_Medal_Prediction.ipynb",
      "provenance": [],
      "collapsed_sections": [
        "XGl2KTJdKBru",
        "V1z2DGzcKU-A",
        "9hpezT7CypQM",
        "3P3LCXnSSf9z"
      ]
    },
    "kernelspec": {
      "name": "python3",
      "display_name": "Python 3"
    },
    "language_info": {
      "name": "python"
    }
  },
  "cells": [
    {
      "cell_type": "markdown",
      "source": [
        "## By: `Hrugved Kolhe`"
      ],
      "metadata": {
        "id": "Brmvn4GWE9K9"
      }
    },
    {
      "cell_type": "markdown",
      "source": [
        "# **Olympic Medal Prediction**"
      ],
      "metadata": {
        "id": "fnxKXlVHJ3IV"
      }
    },
    {
      "cell_type": "markdown",
      "source": [
        "## Importing Libraries\n"
      ],
      "metadata": {
        "id": "XGl2KTJdKBru"
      }
    },
    {
      "cell_type": "code",
      "execution_count": 1,
      "source": [
        "#mounting the drive\r\n",
        "from google.colab import drive\r\n",
        "drive.mount('/content/drive/')"
      ],
      "outputs": [
        {
          "output_type": "stream",
          "name": "stdout",
          "text": [
            "Mounted at /content/drive/\n"
          ]
        }
      ],
      "metadata": {
        "colab": {
          "base_uri": "https://localhost:8080/"
        },
        "id": "UqX9QjB6DsrY",
        "outputId": "74bcc494-8efc-49df-e13d-9fdfa074a532"
      }
    },
    {
      "cell_type": "code",
      "execution_count": 2,
      "source": [
        "#Setting up the fot the dataset\r\n",
        "import os\r\n",
        "os.chdir(\"/content/drive/My Drive/Colab Notebooks\")"
      ],
      "outputs": [],
      "metadata": {
        "id": "uLMB7wonDsx3"
      }
    },
    {
      "cell_type": "code",
      "execution_count": 3,
      "source": [
        "%cd dataset2/"
      ],
      "outputs": [
        {
          "output_type": "stream",
          "name": "stdout",
          "text": [
            "/content/drive/My Drive/Colab Notebooks/dataset2\n"
          ]
        }
      ],
      "metadata": {
        "colab": {
          "base_uri": "https://localhost:8080/"
        },
        "id": "tU9qI3y5D0bt",
        "outputId": "f4c0cd95-81ce-48e2-cd16-2074cdda74a5"
      }
    },
    {
      "cell_type": "code",
      "execution_count": 4,
      "source": [
        "!ls"
      ],
      "outputs": [
        {
          "output_type": "stream",
          "name": "stdout",
          "text": [
            "athlete_events.csv  hk.csv  sample_submission.csv  test.csv  train.csv\n"
          ]
        }
      ],
      "metadata": {
        "colab": {
          "base_uri": "https://localhost:8080/"
        },
        "id": "YKA-5MrVD1DF",
        "outputId": "22d9d033-b2a9-4145-9d40-31eac180d649"
      }
    },
    {
      "cell_type": "code",
      "execution_count": 5,
      "source": [
        "# Importing all the required packages\r\n",
        "import numpy as np\r\n",
        "import pandas as pd\r\n",
        "\r\n",
        "import matplotlib.pyplot as plt\r\n",
        "import seaborn as sns\r\n",
        "\r\n",
        "from sklearn.preprocessing import MinMaxScaler\r\n",
        "from sklearn.model_selection import train_test_split\r\n",
        "from sklearn.metrics import classification_report, confusion_matrix,accuracy_score\r\n",
        "\r\n",
        "from sklearn.feature_selection import SelectKBest\r\n",
        "from sklearn.feature_selection import chi2\r\n",
        "\r\n",
        "import tensorflow as tf\r\n",
        "from sklearn.naive_bayes import MultinomialNB\r\n",
        "from sklearn.linear_model import LogisticRegression\r\n",
        "from sklearn.ensemble import RandomForestClassifier\r\n",
        "from sklearn.ensemble import GradientBoostingClassifier\r\n",
        "from sklearn.tree import DecisionTreeClassifier\r\n",
        "from sklearn.naive_bayes import GaussianNB"
      ],
      "outputs": [],
      "metadata": {
        "id": "xLT3C2gbV8SQ"
      }
    },
    {
      "cell_type": "markdown",
      "source": [
        "## Reading Dataset"
      ],
      "metadata": {
        "id": "V1z2DGzcKU-A"
      }
    },
    {
      "cell_type": "code",
      "execution_count": 6,
      "source": [
        "# Reading the data\r\n",
        "data = pd.read_csv('athlete_events.csv')"
      ],
      "outputs": [],
      "metadata": {
        "id": "EPaE2xmLZlDQ"
      }
    },
    {
      "cell_type": "code",
      "execution_count": 7,
      "source": [
        "data"
      ],
      "outputs": [
        {
          "output_type": "execute_result",
          "data": {
            "text/plain": [
              "       ID  ... Medal\n",
              "0       1  ...   NaN\n",
              "1       2  ...   NaN\n",
              "2       3  ...   NaN\n",
              "3       4  ...  Gold\n",
              "4       5  ...   NaN\n",
              "...   ...  ...   ...\n",
              "1018  570  ...   NaN\n",
              "1019  571  ...   NaN\n",
              "1020  572  ...   NaN\n",
              "1021  572  ...   NaN\n",
              "1022  572  ...   NaN\n",
              "\n",
              "[1023 rows x 15 columns]"
            ],
            "text/html": [
              "<div>\n",
              "<style scoped>\n",
              "    .dataframe tbody tr th:only-of-type {\n",
              "        vertical-align: middle;\n",
              "    }\n",
              "\n",
              "    .dataframe tbody tr th {\n",
              "        vertical-align: top;\n",
              "    }\n",
              "\n",
              "    .dataframe thead th {\n",
              "        text-align: right;\n",
              "    }\n",
              "</style>\n",
              "<table border=\"1\" class=\"dataframe\">\n",
              "  <thead>\n",
              "    <tr style=\"text-align: right;\">\n",
              "      <th></th>\n",
              "      <th>ID</th>\n",
              "      <th>Name</th>\n",
              "      <th>Sex</th>\n",
              "      <th>Age</th>\n",
              "      <th>Height</th>\n",
              "      <th>Weight</th>\n",
              "      <th>Team</th>\n",
              "      <th>NOC</th>\n",
              "      <th>Games</th>\n",
              "      <th>Year</th>\n",
              "      <th>Season</th>\n",
              "      <th>City</th>\n",
              "      <th>Sport</th>\n",
              "      <th>Event</th>\n",
              "      <th>Medal</th>\n",
              "    </tr>\n",
              "  </thead>\n",
              "  <tbody>\n",
              "    <tr>\n",
              "      <th>0</th>\n",
              "      <td>1</td>\n",
              "      <td>A Dijiang</td>\n",
              "      <td>M</td>\n",
              "      <td>24.0</td>\n",
              "      <td>180.0</td>\n",
              "      <td>80.0</td>\n",
              "      <td>China</td>\n",
              "      <td>CHN</td>\n",
              "      <td>1992 Summer</td>\n",
              "      <td>1992</td>\n",
              "      <td>Summer</td>\n",
              "      <td>Barcelona</td>\n",
              "      <td>Basketball</td>\n",
              "      <td>Basketball Men's Basketball</td>\n",
              "      <td>NaN</td>\n",
              "    </tr>\n",
              "    <tr>\n",
              "      <th>1</th>\n",
              "      <td>2</td>\n",
              "      <td>A Lamusi</td>\n",
              "      <td>M</td>\n",
              "      <td>23.0</td>\n",
              "      <td>170.0</td>\n",
              "      <td>60.0</td>\n",
              "      <td>China</td>\n",
              "      <td>CHN</td>\n",
              "      <td>2012 Summer</td>\n",
              "      <td>2012</td>\n",
              "      <td>Summer</td>\n",
              "      <td>London</td>\n",
              "      <td>Judo</td>\n",
              "      <td>Judo Men's Extra-Lightweight</td>\n",
              "      <td>NaN</td>\n",
              "    </tr>\n",
              "    <tr>\n",
              "      <th>2</th>\n",
              "      <td>3</td>\n",
              "      <td>Gunnar Nielsen Aaby</td>\n",
              "      <td>M</td>\n",
              "      <td>24.0</td>\n",
              "      <td>NaN</td>\n",
              "      <td>NaN</td>\n",
              "      <td>Denmark</td>\n",
              "      <td>DEN</td>\n",
              "      <td>1920 Summer</td>\n",
              "      <td>1920</td>\n",
              "      <td>Summer</td>\n",
              "      <td>Antwerpen</td>\n",
              "      <td>Football</td>\n",
              "      <td>Football Men's Football</td>\n",
              "      <td>NaN</td>\n",
              "    </tr>\n",
              "    <tr>\n",
              "      <th>3</th>\n",
              "      <td>4</td>\n",
              "      <td>Edgar Lindenau Aabye</td>\n",
              "      <td>M</td>\n",
              "      <td>34.0</td>\n",
              "      <td>NaN</td>\n",
              "      <td>NaN</td>\n",
              "      <td>Denmark/Sweden</td>\n",
              "      <td>DEN</td>\n",
              "      <td>1900 Summer</td>\n",
              "      <td>1900</td>\n",
              "      <td>Summer</td>\n",
              "      <td>Paris</td>\n",
              "      <td>Tug-Of-War</td>\n",
              "      <td>Tug-Of-War Men's Tug-Of-War</td>\n",
              "      <td>Gold</td>\n",
              "    </tr>\n",
              "    <tr>\n",
              "      <th>4</th>\n",
              "      <td>5</td>\n",
              "      <td>Christine Jacoba Aaftink</td>\n",
              "      <td>F</td>\n",
              "      <td>21.0</td>\n",
              "      <td>185.0</td>\n",
              "      <td>82.0</td>\n",
              "      <td>Netherlands</td>\n",
              "      <td>NED</td>\n",
              "      <td>1988 Winter</td>\n",
              "      <td>1988</td>\n",
              "      <td>Winter</td>\n",
              "      <td>Calgary</td>\n",
              "      <td>Speed Skating</td>\n",
              "      <td>Speed Skating Women's 500 metres</td>\n",
              "      <td>NaN</td>\n",
              "    </tr>\n",
              "    <tr>\n",
              "      <th>...</th>\n",
              "      <td>...</td>\n",
              "      <td>...</td>\n",
              "      <td>...</td>\n",
              "      <td>...</td>\n",
              "      <td>...</td>\n",
              "      <td>...</td>\n",
              "      <td>...</td>\n",
              "      <td>...</td>\n",
              "      <td>...</td>\n",
              "      <td>...</td>\n",
              "      <td>...</td>\n",
              "      <td>...</td>\n",
              "      <td>...</td>\n",
              "      <td>...</td>\n",
              "      <td>...</td>\n",
              "    </tr>\n",
              "    <tr>\n",
              "      <th>1018</th>\n",
              "      <td>570</td>\n",
              "      <td>Pedro Abreu Pascal</td>\n",
              "      <td>M</td>\n",
              "      <td>23.0</td>\n",
              "      <td>200.0</td>\n",
              "      <td>88.0</td>\n",
              "      <td>Cuba</td>\n",
              "      <td>CUB</td>\n",
              "      <td>1980 Summer</td>\n",
              "      <td>1980</td>\n",
              "      <td>Summer</td>\n",
              "      <td>Moskva</td>\n",
              "      <td>Basketball</td>\n",
              "      <td>Basketball Men's Basketball</td>\n",
              "      <td>NaN</td>\n",
              "    </tr>\n",
              "    <tr>\n",
              "      <th>1019</th>\n",
              "      <td>571</td>\n",
              "      <td>Rubn Abreu Rivero</td>\n",
              "      <td>M</td>\n",
              "      <td>24.0</td>\n",
              "      <td>177.0</td>\n",
              "      <td>71.0</td>\n",
              "      <td>Venezuela</td>\n",
              "      <td>VEN</td>\n",
              "      <td>1996 Summer</td>\n",
              "      <td>1996</td>\n",
              "      <td>Summer</td>\n",
              "      <td>Atlanta</td>\n",
              "      <td>Cycling</td>\n",
              "      <td>Cycling Men's Road Race, Individual</td>\n",
              "      <td>NaN</td>\n",
              "    </tr>\n",
              "    <tr>\n",
              "      <th>1020</th>\n",
              "      <td>572</td>\n",
              "      <td>Rui Pinto de Abreu</td>\n",
              "      <td>M</td>\n",
              "      <td>15.0</td>\n",
              "      <td>177.0</td>\n",
              "      <td>64.0</td>\n",
              "      <td>Portugal</td>\n",
              "      <td>POR</td>\n",
              "      <td>1976 Summer</td>\n",
              "      <td>1976</td>\n",
              "      <td>Summer</td>\n",
              "      <td>Montreal</td>\n",
              "      <td>Swimming</td>\n",
              "      <td>Swimming Men's 400 metres Freestyle</td>\n",
              "      <td>NaN</td>\n",
              "    </tr>\n",
              "    <tr>\n",
              "      <th>1021</th>\n",
              "      <td>572</td>\n",
              "      <td>Rui Pinto de Abreu</td>\n",
              "      <td>M</td>\n",
              "      <td>15.0</td>\n",
              "      <td>177.0</td>\n",
              "      <td>64.0</td>\n",
              "      <td>Portugal</td>\n",
              "      <td>POR</td>\n",
              "      <td>1976 Summer</td>\n",
              "      <td>1976</td>\n",
              "      <td>Summer</td>\n",
              "      <td>Montreal</td>\n",
              "      <td>Swimming</td>\n",
              "      <td>Swimming Men's 4 x 200 metres Freestyle Relay</td>\n",
              "      <td>NaN</td>\n",
              "    </tr>\n",
              "    <tr>\n",
              "      <th>1022</th>\n",
              "      <td>572</td>\n",
              "      <td>Rui Pinto de Abreu</td>\n",
              "      <td>M</td>\n",
              "      <td>19.0</td>\n",
              "      <td>177.0</td>\n",
              "      <td>64.0</td>\n",
              "      <td>Portugal</td>\n",
              "      <td>POR</td>\n",
              "      <td>1980 Summer</td>\n",
              "      <td>1980</td>\n",
              "      <td>Summer</td>\n",
              "      <td>Moskva</td>\n",
              "      <td>Swimming</td>\n",
              "      <td>Swimming Men's 100 metres Freestyle</td>\n",
              "      <td>NaN</td>\n",
              "    </tr>\n",
              "  </tbody>\n",
              "</table>\n",
              "<p>1023 rows × 15 columns</p>\n",
              "</div>"
            ]
          },
          "metadata": {
            "tags": []
          },
          "execution_count": 7
        }
      ],
      "metadata": {
        "colab": {
          "base_uri": "https://localhost:8080/",
          "height": 0
        },
        "id": "2lXaRKQaZrXq",
        "outputId": "021ff1ab-eda2-4383-bd9d-67b0cef92e12"
      }
    },
    {
      "cell_type": "code",
      "execution_count": 8,
      "source": [
        "data.info()\r\n"
      ],
      "outputs": [
        {
          "output_type": "stream",
          "name": "stdout",
          "text": [
            "<class 'pandas.core.frame.DataFrame'>\n",
            "RangeIndex: 1023 entries, 0 to 1022\n",
            "Data columns (total 15 columns):\n",
            " #   Column  Non-Null Count  Dtype  \n",
            "---  ------  --------------  -----  \n",
            " 0   ID      1023 non-null   int64  \n",
            " 1   Name    1023 non-null   object \n",
            " 2   Sex     1023 non-null   object \n",
            " 3   Age     959 non-null    float64\n",
            " 4   Height  773 non-null    float64\n",
            " 5   Weight  776 non-null    float64\n",
            " 6   Team    1023 non-null   object \n",
            " 7   NOC     1023 non-null   object \n",
            " 8   Games   1023 non-null   object \n",
            " 9   Year    1023 non-null   int64  \n",
            " 10  Season  1023 non-null   object \n",
            " 11  City    1023 non-null   object \n",
            " 12  Sport   1023 non-null   object \n",
            " 13  Event   1023 non-null   object \n",
            " 14  Medal   112 non-null    object \n",
            "dtypes: float64(3), int64(2), object(10)\n",
            "memory usage: 120.0+ KB\n"
          ]
        }
      ],
      "metadata": {
        "colab": {
          "base_uri": "https://localhost:8080/"
        },
        "id": "Uwo9YYzoa7fM",
        "outputId": "5a33c2fd-a85c-416b-fb68-d3f6df2e8cbe"
      }
    },
    {
      "cell_type": "code",
      "execution_count": 9,
      "source": [
        "# seeing group summary of season cloumn\r\n",
        "data['Season'].value_counts()"
      ],
      "outputs": [
        {
          "output_type": "execute_result",
          "data": {
            "text/plain": [
              "Summer    874\n",
              "Winter    149\n",
              "Name: Season, dtype: int64"
            ]
          },
          "metadata": {
            "tags": []
          },
          "execution_count": 9
        }
      ],
      "metadata": {
        "colab": {
          "base_uri": "https://localhost:8080/"
        },
        "id": "qvapjH0BbdsS",
        "outputId": "f5e27fa6-a986-469b-c251-f75314cb5fcc"
      }
    },
    {
      "cell_type": "code",
      "execution_count": 10,
      "source": [
        "# seeing group summary of Medal cloumn\r\n",
        "data['Medal'].value_counts()"
      ],
      "outputs": [
        {
          "output_type": "execute_result",
          "data": {
            "text/plain": [
              "Gold      45\n",
              "Bronze    34\n",
              "Silver    33\n",
              "Name: Medal, dtype: int64"
            ]
          },
          "metadata": {
            "tags": []
          },
          "execution_count": 10
        }
      ],
      "metadata": {
        "colab": {
          "base_uri": "https://localhost:8080/"
        },
        "id": "tkhFgbJ4E5sO",
        "outputId": "5cb54942-6cac-473b-99d4-41195030d40b"
      }
    },
    {
      "cell_type": "code",
      "execution_count": 11,
      "source": [
        "# seeing group summary of Event cloumn\r\n",
        "data['Event'].value_counts()"
      ],
      "outputs": [
        {
          "output_type": "execute_result",
          "data": {
            "text/plain": [
              "Football Men's Football                        51\n",
              "Hockey Men's Hockey                            26\n",
              "Handball Men's Handball                        20\n",
              "Volleyball Men's Volleyball                    19\n",
              "Water Polo Men's Water Polo                    18\n",
              "                                               ..\n",
              "Canoeing Men's Canadian Doubles, 500 metres     1\n",
              "Speed Skating Women's Team Pursuit (6 laps)     1\n",
              "Rowing Women's Coxed Eights                     1\n",
              "Athletics Women's 1,500 metres                  1\n",
              "Rowing Women's Single Sculls                    1\n",
              "Name: Event, Length: 272, dtype: int64"
            ]
          },
          "metadata": {
            "tags": []
          },
          "execution_count": 11
        }
      ],
      "metadata": {
        "colab": {
          "base_uri": "https://localhost:8080/"
        },
        "id": "8I30PyEuFKwF",
        "outputId": "75bf2ff5-e667-4bef-f4ee-7b50980fc84d"
      }
    },
    {
      "cell_type": "code",
      "execution_count": 12,
      "source": [
        "# seeing group summary of Team cloumn\r\n",
        "data['Team'].value_counts()"
      ],
      "outputs": [
        {
          "output_type": "execute_result",
          "data": {
            "text/plain": [
              "Egypt            189\n",
              "Norway            59\n",
              "United States     41\n",
              "Finland           34\n",
              "Japan             27\n",
              "                ... \n",
              "Russia-2           1\n",
              "Niger              1\n",
              "Uruguay            1\n",
              "Kenya              1\n",
              "Thessalonki-1      1\n",
              "Name: Team, Length: 115, dtype: int64"
            ]
          },
          "metadata": {
            "tags": []
          },
          "execution_count": 12
        }
      ],
      "metadata": {
        "colab": {
          "base_uri": "https://localhost:8080/"
        },
        "id": "OJQ1pEPPlTPm",
        "outputId": "518de118-07f4-411f-b76a-600fc500de7f"
      }
    },
    {
      "cell_type": "markdown",
      "source": [
        "## Exploratory Data Analysis"
      ],
      "metadata": {
        "id": "9hpezT7CypQM"
      }
    },
    {
      "cell_type": "code",
      "execution_count": 13,
      "source": [
        "# Age Distribution\r\n",
        "\r\n",
        "plt.figure(figsize=(15,7))\r\n",
        "plt.title(\"Age VS No. of Participants\")\r\n",
        "plt.hist(data.Age,color='purple', bins = 35)\r\n",
        "plt.xlabel(\"Age\")\r\n",
        "plt.ylabel(\"Participants\")\r\n",
        "plt.show()"
      ],
      "outputs": [
        {
          "output_type": "display_data",
          "data": {
            "text/plain": [
              "<Figure size 1080x504 with 1 Axes>"
            ],
            "image/png": "[encoded data removed]"
          },
          "metadata": {
            "tags": [],
            "needs_background": "light"
          }
        }
      ],
      "metadata": {
        "colab": {
          "base_uri": "https://localhost:8080/",
          "height": 0
        },
        "id": "ZT65ZfSTyyJz",
        "outputId": "53cfe958-de97-4efb-afbe-cfd83550c051"
      }
    },
    {
      "cell_type": "code",
      "execution_count": 14,
      "source": [
        "# Age to participant distribution\r\n",
        "age_dist = data.Age.value_counts().sort_values(ascending=False).head(15)\r\n",
        "age_dist"
      ],
      "outputs": [
        {
          "output_type": "execute_result",
          "data": {
            "text/plain": [
              "22.0    99\n",
              "21.0    80\n",
              "23.0    76\n",
              "24.0    75\n",
              "19.0    68\n",
              "26.0    67\n",
              "25.0    62\n",
              "28.0    53\n",
              "27.0    49\n",
              "30.0    45\n",
              "20.0    42\n",
              "31.0    35\n",
              "29.0    31\n",
              "33.0    26\n",
              "32.0    24\n",
              "Name: Age, dtype: int64"
            ]
          },
          "metadata": {
            "tags": []
          },
          "execution_count": 14
        }
      ],
      "metadata": {
        "colab": {
          "base_uri": "https://localhost:8080/"
        },
        "id": "tC-hXt0_oGX7",
        "outputId": "64acc510-5d44-406f-bfa6-a6f4da76e683"
      }
    },
    {
      "cell_type": "markdown",
      "source": [
        "Most of the athletes are in between Age group 20 to 30\n"
      ],
      "metadata": {
        "id": "WQM036B-0R3-"
      }
    },
    {
      "cell_type": "code",
      "execution_count": 15,
      "source": [
        "# Gender Distribution\r\n",
        "gender_unique_values = data.Sex.value_counts()\r\n",
        "gender_unique_values"
      ],
      "outputs": [
        {
          "output_type": "execute_result",
          "data": {
            "text/plain": [
              "M    857\n",
              "F    166\n",
              "Name: Sex, dtype: int64"
            ]
          },
          "metadata": {
            "tags": []
          },
          "execution_count": 15
        }
      ],
      "metadata": {
        "colab": {
          "base_uri": "https://localhost:8080/"
        },
        "id": "64J0q2wi1QBW",
        "outputId": "810c5342-9aa2-450a-f296-79dffb4b8c2e"
      }
    },
    {
      "cell_type": "code",
      "execution_count": 16,
      "source": [
        "plt.figure(figsize=(15,7))\r\n",
        "plt.title(\"Gender Distribution\")\r\n",
        "plt.pie(gender_unique_values, labels=gender_unique_values.index, autopct=\"%.2f%%\", startangle=90)\r\n",
        "plt.show()"
      ],
      "outputs": [
        {
          "output_type": "display_data",
          "data": {
            "text/plain": [
              "<Figure size 1080x504 with 1 Axes>"
            ],
            "image/png": "[encoded data removed]"
          },
          "metadata": {
            "tags": []
          }
        }
      ],
      "metadata": {
        "colab": {
          "base_uri": "https://localhost:8080/",
          "height": 0
        },
        "id": "KbY58AwC0QAt",
        "outputId": "0db6c4dd-65b9-41d7-d00c-cdc89846a038"
      }
    },
    {
      "cell_type": "markdown",
      "source": [
        "Here, We observe that male participants are more than female participants in the olympics"
      ],
      "metadata": {
        "id": "0rtTPPGZ1jO4"
      }
    },
    {
      "cell_type": "code",
      "execution_count": 17,
      "source": [
        "# seeing female participants in each year in summer season\r\n",
        "\r\n",
        "female_part = data[(data.Sex=='F') & (data.Season == 'Summer')][['Sex', 'Year']]\r\n",
        "female_part = female_part.groupby('Year').count().reset_index()\r\n",
        "female_part"
      ],
      "outputs": [
        {
          "output_type": "execute_result",
          "data": {
            "text/plain": [
              "    Year  Sex\n",
              "0   1900    2\n",
              "1   1932    2\n",
              "2   1948    1\n",
              "3   1956    2\n",
              "4   1960    5\n",
              "5   1964    1\n",
              "6   1972    6\n",
              "7   1976    1\n",
              "8   1980    3\n",
              "9   1984    7\n",
              "10  1988    7\n",
              "11  1992    2\n",
              "12  1996    8\n",
              "13  2000   10\n",
              "14  2004   12\n",
              "15  2008   30\n",
              "16  2012   19\n",
              "17  2016   20"
            ],
            "text/html": [
              "<div>\n",
              "<style scoped>\n",
              "    .dataframe tbody tr th:only-of-type {\n",
              "        vertical-align: middle;\n",
              "    }\n",
              "\n",
              "    .dataframe tbody tr th {\n",
              "        vertical-align: top;\n",
              "    }\n",
              "\n",
              "    .dataframe thead th {\n",
              "        text-align: right;\n",
              "    }\n",
              "</style>\n",
              "<table border=\"1\" class=\"dataframe\">\n",
              "  <thead>\n",
              "    <tr style=\"text-align: right;\">\n",
              "      <th></th>\n",
              "      <th>Year</th>\n",
              "      <th>Sex</th>\n",
              "    </tr>\n",
              "  </thead>\n",
              "  <tbody>\n",
              "    <tr>\n",
              "      <th>0</th>\n",
              "      <td>1900</td>\n",
              "      <td>2</td>\n",
              "    </tr>\n",
              "    <tr>\n",
              "      <th>1</th>\n",
              "      <td>1932</td>\n",
              "      <td>2</td>\n",
              "    </tr>\n",
              "    <tr>\n",
              "      <th>2</th>\n",
              "      <td>1948</td>\n",
              "      <td>1</td>\n",
              "    </tr>\n",
              "    <tr>\n",
              "      <th>3</th>\n",
              "      <td>1956</td>\n",
              "      <td>2</td>\n",
              "    </tr>\n",
              "    <tr>\n",
              "      <th>4</th>\n",
              "      <td>1960</td>\n",
              "      <td>5</td>\n",
              "    </tr>\n",
              "    <tr>\n",
              "      <th>5</th>\n",
              "      <td>1964</td>\n",
              "      <td>1</td>\n",
              "    </tr>\n",
              "    <tr>\n",
              "      <th>6</th>\n",
              "      <td>1972</td>\n",
              "      <td>6</td>\n",
              "    </tr>\n",
              "    <tr>\n",
              "      <th>7</th>\n",
              "      <td>1976</td>\n",
              "      <td>1</td>\n",
              "    </tr>\n",
              "    <tr>\n",
              "      <th>8</th>\n",
              "      <td>1980</td>\n",
              "      <td>3</td>\n",
              "    </tr>\n",
              "    <tr>\n",
              "      <th>9</th>\n",
              "      <td>1984</td>\n",
              "      <td>7</td>\n",
              "    </tr>\n",
              "    <tr>\n",
              "      <th>10</th>\n",
              "      <td>1988</td>\n",
              "      <td>7</td>\n",
              "    </tr>\n",
              "    <tr>\n",
              "      <th>11</th>\n",
              "      <td>1992</td>\n",
              "      <td>2</td>\n",
              "    </tr>\n",
              "    <tr>\n",
              "      <th>12</th>\n",
              "      <td>1996</td>\n",
              "      <td>8</td>\n",
              "    </tr>\n",
              "    <tr>\n",
              "      <th>13</th>\n",
              "      <td>2000</td>\n",
              "      <td>10</td>\n",
              "    </tr>\n",
              "    <tr>\n",
              "      <th>14</th>\n",
              "      <td>2004</td>\n",
              "      <td>12</td>\n",
              "    </tr>\n",
              "    <tr>\n",
              "      <th>15</th>\n",
              "      <td>2008</td>\n",
              "      <td>30</td>\n",
              "    </tr>\n",
              "    <tr>\n",
              "      <th>16</th>\n",
              "      <td>2012</td>\n",
              "      <td>19</td>\n",
              "    </tr>\n",
              "    <tr>\n",
              "      <th>17</th>\n",
              "      <td>2016</td>\n",
              "      <td>20</td>\n",
              "    </tr>\n",
              "  </tbody>\n",
              "</table>\n",
              "</div>"
            ]
          },
          "metadata": {
            "tags": []
          },
          "execution_count": 17
        }
      ],
      "metadata": {
        "colab": {
          "base_uri": "https://localhost:8080/",
          "height": 0
        },
        "id": "BpKJyXu71Zl3",
        "outputId": "83086834-6945-424e-b1b4-e148960d0cbf"
      }
    },
    {
      "cell_type": "code",
      "execution_count": 18,
      "source": [
        "# Visualizing the female participant data\r\n",
        "\r\n",
        "plt.figure(figsize=(15,7))\r\n",
        "sns.lineplot(data=female_part, x='Year', y='Sex', linestyle = '--', color = 'purple')\r\n",
        "plt.xlabel('Year')\r\n",
        "plt.ylabel('Female Participants')"
      ],
      "outputs": [
        {
          "output_type": "execute_result",
          "data": {
            "text/plain": [
              "Text(0, 0.5, 'Female Participants')"
            ]
          },
          "metadata": {
            "tags": []
          },
          "execution_count": 18
        },
        {
          "output_type": "display_data",
          "data": {
            "text/plain": [
              "<Figure size 1080x504 with 1 Axes>"
            ],
            "image/png": "[encoded data removed]"
          },
          "metadata": {
            "tags": [],
            "needs_background": "light"
          }
        }
      ],
      "metadata": {
        "colab": {
          "base_uri": "https://localhost:8080/",
          "height": 0
        },
        "id": "2im4aEH12W1h",
        "outputId": "dcebbf8f-12ee-47d6-b5f7-89fab3b3d1b3"
      }
    },
    {
      "cell_type": "markdown",
      "source": [
        "We can see that Female Participants have increased by a great extent since 1960's"
      ],
      "metadata": {
        "id": "QCQvkng63Pw7"
      }
    },
    {
      "cell_type": "code",
      "execution_count": 19,
      "source": [
        "# Participants across the season\r\n",
        "\r\n",
        "seasons = data.Season.value_counts()\r\n",
        "seasons"
      ],
      "outputs": [
        {
          "output_type": "execute_result",
          "data": {
            "text/plain": [
              "Summer    874\n",
              "Winter    149\n",
              "Name: Season, dtype: int64"
            ]
          },
          "metadata": {
            "tags": []
          },
          "execution_count": 19
        }
      ],
      "metadata": {
        "colab": {
          "base_uri": "https://localhost:8080/"
        },
        "id": "qADocgom2cJ9",
        "outputId": "ac8ea7ae-ce5b-46ee-dc35-ef343826cff9"
      }
    },
    {
      "cell_type": "code",
      "execution_count": 20,
      "source": [
        "# Visualizing paritipant distribution in different season\r\n",
        "fig1, ax1 = plt.subplots()\r\n",
        "\r\n",
        "colors = ['#99ff96','#000000']\r\n",
        "\r\n",
        "ax1.pie(seasons, colors = colors, labels=seasons.index, autopct='%1.1f%%')\r\n",
        "\r\n",
        "centre_circle = plt.Circle((0,0),0.70,fc='white')\r\n",
        "fig = plt.gcf()\r\n",
        "fig.gca().add_artist(centre_circle)\r\n",
        "\r\n",
        "ax1.axis('equal')  \r\n",
        "plt.tight_layout()\r\n",
        "plt.show()"
      ],
      "outputs": [
        {
          "output_type": "display_data",
          "data": {
            "text/plain": [
              "<Figure size 432x288 with 1 Axes>"
            ],
            "image/png": "[encoded data removed]"
          },
          "metadata": {
            "tags": []
          }
        }
      ],
      "metadata": {
        "colab": {
          "base_uri": "https://localhost:8080/",
          "height": 0
        },
        "id": "WTHSWF3U3zVQ",
        "outputId": "7ac99bc4-571e-490e-bd5d-5bcdc0fb71b1"
      }
    },
    {
      "cell_type": "markdown",
      "source": [
        "Participation in summer season is more than the winter season"
      ],
      "metadata": {
        "id": "fZNzzBAR4H87"
      }
    },
    {
      "cell_type": "code",
      "execution_count": 21,
      "source": [
        "# Top 15 Countries participating in Olympics by no. of participants\r\n",
        "top_countries = data.Team.value_counts().sort_values(ascending=False).head(15)\r\n",
        "top_countries"
      ],
      "outputs": [
        {
          "output_type": "execute_result",
          "data": {
            "text/plain": [
              "Egypt                   189\n",
              "Norway                   59\n",
              "United States            41\n",
              "Finland                  34\n",
              "Japan                    27\n",
              "Spain                    27\n",
              "Iraq                     25\n",
              "Russia                   24\n",
              "Italy                    21\n",
              "United Arab Republic     21\n",
              "Netherlands              19\n",
              "Sweden                   19\n",
              "Portugal                 18\n",
              "Canada                   17\n",
              "Great Britain            17\n",
              "Name: Team, dtype: int64"
            ]
          },
          "metadata": {
            "tags": []
          },
          "execution_count": 21
        }
      ],
      "metadata": {
        "colab": {
          "base_uri": "https://localhost:8080/"
        },
        "id": "xX_AKjhr39Vd",
        "outputId": "ebe2a59e-2c57-49cd-cbb4-3ad319d93708"
      }
    },
    {
      "cell_type": "code",
      "execution_count": 22,
      "source": [
        "# Data Visualization of countries participating\r\n",
        "sns.set_style('darkgrid')\r\n",
        "plt.figure(figsize=(15, 7))\r\n",
        "plt.title('Top 15 Countries Total Participations')\r\n",
        "plt.xticks(rotation=75)\r\n",
        "sns.barplot(x=top_countries.index, y=top_countries)"
      ],
      "outputs": [
        {
          "output_type": "execute_result",
          "data": {
            "text/plain": [
              "<matplotlib.axes._subplots.AxesSubplot at 0x7f4826129bd0>"
            ]
          },
          "metadata": {
            "tags": []
          },
          "execution_count": 22
        },
        {
          "output_type": "display_data",
          "data": {
            "text/plain": [
              "<Figure size 1080x504 with 1 Axes>"
            ],
            "image/png": "[encoded data removed]"
          },
          "metadata": {
            "tags": []
          }
        }
      ],
      "metadata": {
        "colab": {
          "base_uri": "https://localhost:8080/",
          "height": 0
        },
        "id": "rANXjiSx4Xu-",
        "outputId": "3368ffef-f40d-4c85-8bc7-f38fe8b45945"
      }
    },
    {
      "cell_type": "code",
      "execution_count": 23,
      "source": [
        "# Data of countries with most Gold medals\r\n",
        "\r\n",
        "max_year_country = data[(data.Medal == 'Gold')].Team\r\n",
        "max_year_country = max_year_country.value_counts().head(20)\r\n",
        "max_year_country\r\n"
      ],
      "outputs": [
        {
          "output_type": "execute_result",
          "data": {
            "text/plain": [
              "Italy               7\n",
              "Norway              7\n",
              "France              4\n",
              "United States       4\n",
              "Spain               3\n",
              "Finland             3\n",
              "Vesper Boat Club    2\n",
              "Bulgaria            1\n",
              "Uzbekistan          1\n",
              "Pakistan            1\n",
              "Cameroon            1\n",
              "Canada              1\n",
              "Belarus             1\n",
              "Azerbaijan          1\n",
              "Hungary             1\n",
              "Soviet Union        1\n",
              "Taifun              1\n",
              "Japan               1\n",
              "Great Britain       1\n",
              "Unified Team        1\n",
              "Name: Team, dtype: int64"
            ]
          },
          "metadata": {
            "tags": []
          },
          "execution_count": 23
        }
      ],
      "metadata": {
        "colab": {
          "base_uri": "https://localhost:8080/"
        },
        "id": "XuqhQD604dZl",
        "outputId": "2d5a6c76-55c8-4cf9-febb-3a4be8c67089"
      }
    },
    {
      "cell_type": "code",
      "execution_count": 24,
      "source": [
        "# Visulaizing the countries with most Gold medals\r\n",
        "plt.figure(figsize=(15,7))\r\n",
        "sns.barplot(x=max_year_country, y=max_year_country.index)\r\n",
        "plt.xlabel(\"Top 20 Gold Medal Won Countrywise\")"
      ],
      "outputs": [
        {
          "output_type": "execute_result",
          "data": {
            "text/plain": [
              "Text(0.5, 0, 'Top 20 Gold Medal Won Countrywise')"
            ]
          },
          "metadata": {
            "tags": []
          },
          "execution_count": 24
        },
        {
          "output_type": "display_data",
          "data": {
            "text/plain": [
              "<Figure size 1080x504 with 1 Axes>"
            ],
            "image/png": "[encoded data removed]"
          },
          "metadata": {
            "tags": []
          }
        }
      ],
      "metadata": {
        "colab": {
          "base_uri": "https://localhost:8080/",
          "height": 0
        },
        "id": "VHO-cphz-pRy",
        "outputId": "e04d6c34-a035-4512-942e-44be6d603154"
      }
    },
    {
      "cell_type": "code",
      "execution_count": 25,
      "source": [
        "# Age vs Height Spread\r\n",
        "\r\n",
        "age_heig = data[(data.Age != 0) & (data.Height != 0.0) & (data.Medal != 'None') & (data.Season == 'Summer')]\r\n",
        "plt.figure(figsize=(15,7))\r\n",
        "sns.scatterplot(x=age_heig.Age, y=age_heig.Height, data=age_heig, hue='Sex')\r\n",
        "plt.xlabel('Age')\r\n",
        "plt.ylabel('Height')"
      ],
      "outputs": [
        {
          "output_type": "execute_result",
          "data": {
            "text/plain": [
              "Text(0, 0.5, 'Height')"
            ]
          },
          "metadata": {
            "tags": []
          },
          "execution_count": 25
        },
        {
          "output_type": "display_data",
          "data": {
            "text/plain": [
              "<Figure size 1080x504 with 1 Axes>"
            ],
            "image/png": "[encoded data removed]"
          },
          "metadata": {
            "tags": []
          }
        }
      ],
      "metadata": {
        "colab": {
          "base_uri": "https://localhost:8080/",
          "height": 0
        },
        "id": "EyA3lbuO-28E",
        "outputId": "0ea49bf9-974e-4f9a-8f2f-d63cb92fb014"
      }
    },
    {
      "cell_type": "code",
      "execution_count": 26,
      "source": [
        "# Age vs Weight Spread\r\n",
        "\r\n",
        "age_weig = data[(data.Age != 0.0) & (data.Weight != 0.0) & (data.Medal != 'None') & (data.Season == 'Summer')]\r\n",
        "plt.figure(figsize=(15,7))\r\n",
        "sns.scatterplot(x=age_weig.Age, y=age_weig.Weight, data=age_weig, hue='Sex')\r\n",
        "plt.xlabel('Age')\r\n",
        "plt.ylabel('Weight')\r\n"
      ],
      "outputs": [
        {
          "output_type": "execute_result",
          "data": {
            "text/plain": [
              "Text(0, 0.5, 'Weight')"
            ]
          },
          "metadata": {
            "tags": []
          },
          "execution_count": 26
        },
        {
          "output_type": "display_data",
          "data": {
            "text/plain": [
              "<Figure size 1080x504 with 1 Axes>"
            ],
            "image/png": "[encoded data removed]"
          },
          "metadata": {
            "tags": []
          }
        }
      ],
      "metadata": {
        "colab": {
          "base_uri": "https://localhost:8080/",
          "height": 0
        },
        "id": "ZdG-um9c_CUa",
        "outputId": "fabd87c4-686b-4fd1-efa9-a70f6e4b83e1"
      }
    },
    {
      "cell_type": "code",
      "execution_count": 27,
      "source": [
        "# Weight & Height Spread\r\n",
        "\r\n",
        "heig_weight = data[(data.Height != 0.0) & (data.Age != 0) & (data.Weight != 0.0) & (data.Medal != 'None') & (data.Season == 'Summer')]\r\n",
        "plt.figure(figsize=(15,7))\r\n",
        "sns.scatterplot(x=heig_weight.Weight, y=heig_weight.Height, data=heig_weight, hue='Sex')\r\n",
        "plt.xlabel('Weight')\r\n",
        "plt.ylabel('Height')"
      ],
      "outputs": [
        {
          "output_type": "execute_result",
          "data": {
            "text/plain": [
              "Text(0, 0.5, 'Height')"
            ]
          },
          "metadata": {
            "tags": []
          },
          "execution_count": 27
        },
        {
          "output_type": "display_data",
          "data": {
            "text/plain": [
              "<Figure size 1080x504 with 1 Axes>"
            ],
            "image/png": "[encoded data removed]"
          },
          "metadata": {
            "tags": []
          }
        }
      ],
      "metadata": {
        "colab": {
          "base_uri": "https://localhost:8080/",
          "height": 0
        },
        "id": "An7SHqqu_mKi",
        "outputId": "fe00a083-ca21-4c2b-d203-2724b4b48bad"
      }
    },
    {
      "cell_type": "markdown",
      "source": [
        "## Data Cleaning"
      ],
      "metadata": {
        "id": "Y5JZWC-B8HsR"
      }
    },
    {
      "cell_type": "code",
      "execution_count": 28,
      "source": [
        "# To fill missing values in Medal column with 0's and 1's\r\n",
        "data['Medal'] = data['Medal'].apply(lambda x: 1 if str(x) != 'nan' else 0)\r\n"
      ],
      "outputs": [],
      "metadata": {
        "id": "8sfUyL5Z7AC6"
      }
    },
    {
      "cell_type": "code",
      "execution_count": 29,
      "source": [
        "data"
      ],
      "outputs": [
        {
          "output_type": "execute_result",
          "data": {
            "text/plain": [
              "       ID  ... Medal\n",
              "0       1  ...     0\n",
              "1       2  ...     0\n",
              "2       3  ...     0\n",
              "3       4  ...     1\n",
              "4       5  ...     0\n",
              "...   ...  ...   ...\n",
              "1018  570  ...     0\n",
              "1019  571  ...     0\n",
              "1020  572  ...     0\n",
              "1021  572  ...     0\n",
              "1022  572  ...     0\n",
              "\n",
              "[1023 rows x 15 columns]"
            ],
            "text/html": [
              "<div>\n",
              "<style scoped>\n",
              "    .dataframe tbody tr th:only-of-type {\n",
              "        vertical-align: middle;\n",
              "    }\n",
              "\n",
              "    .dataframe tbody tr th {\n",
              "        vertical-align: top;\n",
              "    }\n",
              "\n",
              "    .dataframe thead th {\n",
              "        text-align: right;\n",
              "    }\n",
              "</style>\n",
              "<table border=\"1\" class=\"dataframe\">\n",
              "  <thead>\n",
              "    <tr style=\"text-align: right;\">\n",
              "      <th></th>\n",
              "      <th>ID</th>\n",
              "      <th>Name</th>\n",
              "      <th>Sex</th>\n",
              "      <th>Age</th>\n",
              "      <th>Height</th>\n",
              "      <th>Weight</th>\n",
              "      <th>Team</th>\n",
              "      <th>NOC</th>\n",
              "      <th>Games</th>\n",
              "      <th>Year</th>\n",
              "      <th>Season</th>\n",
              "      <th>City</th>\n",
              "      <th>Sport</th>\n",
              "      <th>Event</th>\n",
              "      <th>Medal</th>\n",
              "    </tr>\n",
              "  </thead>\n",
              "  <tbody>\n",
              "    <tr>\n",
              "      <th>0</th>\n",
              "      <td>1</td>\n",
              "      <td>A Dijiang</td>\n",
              "      <td>M</td>\n",
              "      <td>24.0</td>\n",
              "      <td>180.0</td>\n",
              "      <td>80.0</td>\n",
              "      <td>China</td>\n",
              "      <td>CHN</td>\n",
              "      <td>1992 Summer</td>\n",
              "      <td>1992</td>\n",
              "      <td>Summer</td>\n",
              "      <td>Barcelona</td>\n",
              "      <td>Basketball</td>\n",
              "      <td>Basketball Men's Basketball</td>\n",
              "      <td>0</td>\n",
              "    </tr>\n",
              "    <tr>\n",
              "      <th>1</th>\n",
              "      <td>2</td>\n",
              "      <td>A Lamusi</td>\n",
              "      <td>M</td>\n",
              "      <td>23.0</td>\n",
              "      <td>170.0</td>\n",
              "      <td>60.0</td>\n",
              "      <td>China</td>\n",
              "      <td>CHN</td>\n",
              "      <td>2012 Summer</td>\n",
              "      <td>2012</td>\n",
              "      <td>Summer</td>\n",
              "      <td>London</td>\n",
              "      <td>Judo</td>\n",
              "      <td>Judo Men's Extra-Lightweight</td>\n",
              "      <td>0</td>\n",
              "    </tr>\n",
              "    <tr>\n",
              "      <th>2</th>\n",
              "      <td>3</td>\n",
              "      <td>Gunnar Nielsen Aaby</td>\n",
              "      <td>M</td>\n",
              "      <td>24.0</td>\n",
              "      <td>NaN</td>\n",
              "      <td>NaN</td>\n",
              "      <td>Denmark</td>\n",
              "      <td>DEN</td>\n",
              "      <td>1920 Summer</td>\n",
              "      <td>1920</td>\n",
              "      <td>Summer</td>\n",
              "      <td>Antwerpen</td>\n",
              "      <td>Football</td>\n",
              "      <td>Football Men's Football</td>\n",
              "      <td>0</td>\n",
              "    </tr>\n",
              "    <tr>\n",
              "      <th>3</th>\n",
              "      <td>4</td>\n",
              "      <td>Edgar Lindenau Aabye</td>\n",
              "      <td>M</td>\n",
              "      <td>34.0</td>\n",
              "      <td>NaN</td>\n",
              "      <td>NaN</td>\n",
              "      <td>Denmark/Sweden</td>\n",
              "      <td>DEN</td>\n",
              "      <td>1900 Summer</td>\n",
              "      <td>1900</td>\n",
              "      <td>Summer</td>\n",
              "      <td>Paris</td>\n",
              "      <td>Tug-Of-War</td>\n",
              "      <td>Tug-Of-War Men's Tug-Of-War</td>\n",
              "      <td>1</td>\n",
              "    </tr>\n",
              "    <tr>\n",
              "      <th>4</th>\n",
              "      <td>5</td>\n",
              "      <td>Christine Jacoba Aaftink</td>\n",
              "      <td>F</td>\n",
              "      <td>21.0</td>\n",
              "      <td>185.0</td>\n",
              "      <td>82.0</td>\n",
              "      <td>Netherlands</td>\n",
              "      <td>NED</td>\n",
              "      <td>1988 Winter</td>\n",
              "      <td>1988</td>\n",
              "      <td>Winter</td>\n",
              "      <td>Calgary</td>\n",
              "      <td>Speed Skating</td>\n",
              "      <td>Speed Skating Women's 500 metres</td>\n",
              "      <td>0</td>\n",
              "    </tr>\n",
              "    <tr>\n",
              "      <th>...</th>\n",
              "      <td>...</td>\n",
              "      <td>...</td>\n",
              "      <td>...</td>\n",
              "      <td>...</td>\n",
              "      <td>...</td>\n",
              "      <td>...</td>\n",
              "      <td>...</td>\n",
              "      <td>...</td>\n",
              "      <td>...</td>\n",
              "      <td>...</td>\n",
              "      <td>...</td>\n",
              "      <td>...</td>\n",
              "      <td>...</td>\n",
              "      <td>...</td>\n",
              "      <td>...</td>\n",
              "    </tr>\n",
              "    <tr>\n",
              "      <th>1018</th>\n",
              "      <td>570</td>\n",
              "      <td>Pedro Abreu Pascal</td>\n",
              "      <td>M</td>\n",
              "      <td>23.0</td>\n",
              "      <td>200.0</td>\n",
              "      <td>88.0</td>\n",
              "      <td>Cuba</td>\n",
              "      <td>CUB</td>\n",
              "      <td>1980 Summer</td>\n",
              "      <td>1980</td>\n",
              "      <td>Summer</td>\n",
              "      <td>Moskva</td>\n",
              "      <td>Basketball</td>\n",
              "      <td>Basketball Men's Basketball</td>\n",
              "      <td>0</td>\n",
              "    </tr>\n",
              "    <tr>\n",
              "      <th>1019</th>\n",
              "      <td>571</td>\n",
              "      <td>Rubn Abreu Rivero</td>\n",
              "      <td>M</td>\n",
              "      <td>24.0</td>\n",
              "      <td>177.0</td>\n",
              "      <td>71.0</td>\n",
              "      <td>Venezuela</td>\n",
              "      <td>VEN</td>\n",
              "      <td>1996 Summer</td>\n",
              "      <td>1996</td>\n",
              "      <td>Summer</td>\n",
              "      <td>Atlanta</td>\n",
              "      <td>Cycling</td>\n",
              "      <td>Cycling Men's Road Race, Individual</td>\n",
              "      <td>0</td>\n",
              "    </tr>\n",
              "    <tr>\n",
              "      <th>1020</th>\n",
              "      <td>572</td>\n",
              "      <td>Rui Pinto de Abreu</td>\n",
              "      <td>M</td>\n",
              "      <td>15.0</td>\n",
              "      <td>177.0</td>\n",
              "      <td>64.0</td>\n",
              "      <td>Portugal</td>\n",
              "      <td>POR</td>\n",
              "      <td>1976 Summer</td>\n",
              "      <td>1976</td>\n",
              "      <td>Summer</td>\n",
              "      <td>Montreal</td>\n",
              "      <td>Swimming</td>\n",
              "      <td>Swimming Men's 400 metres Freestyle</td>\n",
              "      <td>0</td>\n",
              "    </tr>\n",
              "    <tr>\n",
              "      <th>1021</th>\n",
              "      <td>572</td>\n",
              "      <td>Rui Pinto de Abreu</td>\n",
              "      <td>M</td>\n",
              "      <td>15.0</td>\n",
              "      <td>177.0</td>\n",
              "      <td>64.0</td>\n",
              "      <td>Portugal</td>\n",
              "      <td>POR</td>\n",
              "      <td>1976 Summer</td>\n",
              "      <td>1976</td>\n",
              "      <td>Summer</td>\n",
              "      <td>Montreal</td>\n",
              "      <td>Swimming</td>\n",
              "      <td>Swimming Men's 4 x 200 metres Freestyle Relay</td>\n",
              "      <td>0</td>\n",
              "    </tr>\n",
              "    <tr>\n",
              "      <th>1022</th>\n",
              "      <td>572</td>\n",
              "      <td>Rui Pinto de Abreu</td>\n",
              "      <td>M</td>\n",
              "      <td>19.0</td>\n",
              "      <td>177.0</td>\n",
              "      <td>64.0</td>\n",
              "      <td>Portugal</td>\n",
              "      <td>POR</td>\n",
              "      <td>1980 Summer</td>\n",
              "      <td>1980</td>\n",
              "      <td>Summer</td>\n",
              "      <td>Moskva</td>\n",
              "      <td>Swimming</td>\n",
              "      <td>Swimming Men's 100 metres Freestyle</td>\n",
              "      <td>0</td>\n",
              "    </tr>\n",
              "  </tbody>\n",
              "</table>\n",
              "<p>1023 rows × 15 columns</p>\n",
              "</div>"
            ]
          },
          "metadata": {
            "tags": []
          },
          "execution_count": 29
        }
      ],
      "metadata": {
        "colab": {
          "base_uri": "https://localhost:8080/",
          "height": 582
        },
        "id": "6-JQLF2k7BLj",
        "outputId": "dbc056ba-ddb9-457f-a474-bd348f45cd90"
      }
    },
    {
      "cell_type": "code",
      "execution_count": 30,
      "source": [
        "# Drop Uncessary feature columns\r\n",
        "data = data.drop(['ID', 'Name', 'Games'], axis=1)"
      ],
      "outputs": [],
      "metadata": {
        "id": "v3V9BM8P7gkL"
      }
    },
    {
      "cell_type": "code",
      "execution_count": 31,
      "source": [
        "# Checking null values in the data \r\n",
        "data.isna().mean()\r\n"
      ],
      "outputs": [
        {
          "output_type": "execute_result",
          "data": {
            "text/plain": [
              "Sex       0.000000\n",
              "Age       0.062561\n",
              "Height    0.244379\n",
              "Weight    0.241447\n",
              "Team      0.000000\n",
              "NOC       0.000000\n",
              "Year      0.000000\n",
              "Season    0.000000\n",
              "City      0.000000\n",
              "Sport     0.000000\n",
              "Event     0.000000\n",
              "Medal     0.000000\n",
              "dtype: float64"
            ]
          },
          "metadata": {
            "tags": []
          },
          "execution_count": 31
        }
      ],
      "metadata": {
        "colab": {
          "base_uri": "https://localhost:8080/"
        },
        "id": "8ck3G6Zw7gxO",
        "outputId": "52cba23d-3588-433e-a056-5a9307f768b0"
      }
    },
    {
      "cell_type": "code",
      "execution_count": 32,
      "source": [
        "data.groupby(['Medal', 'Sex']).mean().astype(np.int)"
      ],
      "outputs": [
        {
          "output_type": "execute_result",
          "data": {
            "text/plain": [
              "           Age  Height  Weight  Year\n",
              "Medal Sex                           \n",
              "0     F     23     166      60  1997\n",
              "      M     25     177      73  1980\n",
              "1     F     21     169      60  1989\n",
              "      M     25     179      79  1974"
            ],
            "text/html": [
              "<div>\n",
              "<style scoped>\n",
              "    .dataframe tbody tr th:only-of-type {\n",
              "        vertical-align: middle;\n",
              "    }\n",
              "\n",
              "    .dataframe tbody tr th {\n",
              "        vertical-align: top;\n",
              "    }\n",
              "\n",
              "    .dataframe thead th {\n",
              "        text-align: right;\n",
              "    }\n",
              "</style>\n",
              "<table border=\"1\" class=\"dataframe\">\n",
              "  <thead>\n",
              "    <tr style=\"text-align: right;\">\n",
              "      <th></th>\n",
              "      <th></th>\n",
              "      <th>Age</th>\n",
              "      <th>Height</th>\n",
              "      <th>Weight</th>\n",
              "      <th>Year</th>\n",
              "    </tr>\n",
              "    <tr>\n",
              "      <th>Medal</th>\n",
              "      <th>Sex</th>\n",
              "      <th></th>\n",
              "      <th></th>\n",
              "      <th></th>\n",
              "      <th></th>\n",
              "    </tr>\n",
              "  </thead>\n",
              "  <tbody>\n",
              "    <tr>\n",
              "      <th rowspan=\"2\" valign=\"top\">0</th>\n",
              "      <th>F</th>\n",
              "      <td>23</td>\n",
              "      <td>166</td>\n",
              "      <td>60</td>\n",
              "      <td>1997</td>\n",
              "    </tr>\n",
              "    <tr>\n",
              "      <th>M</th>\n",
              "      <td>25</td>\n",
              "      <td>177</td>\n",
              "      <td>73</td>\n",
              "      <td>1980</td>\n",
              "    </tr>\n",
              "    <tr>\n",
              "      <th rowspan=\"2\" valign=\"top\">1</th>\n",
              "      <th>F</th>\n",
              "      <td>21</td>\n",
              "      <td>169</td>\n",
              "      <td>60</td>\n",
              "      <td>1989</td>\n",
              "    </tr>\n",
              "    <tr>\n",
              "      <th>M</th>\n",
              "      <td>25</td>\n",
              "      <td>179</td>\n",
              "      <td>79</td>\n",
              "      <td>1974</td>\n",
              "    </tr>\n",
              "  </tbody>\n",
              "</table>\n",
              "</div>"
            ]
          },
          "metadata": {
            "tags": []
          },
          "execution_count": 32
        }
      ],
      "metadata": {
        "colab": {
          "base_uri": "https://localhost:8080/",
          "height": 202
        },
        "id": "vZETHw8i7gzx",
        "outputId": "9ce92d4f-c77e-483d-88a3-4fda3556c861"
      }
    },
    {
      "cell_type": "code",
      "execution_count": 33,
      "source": [
        "# Fill null values with mean values for these columns\r\n",
        "for column in ['Age', 'Height', 'Weight']:\r\n",
        "    data[column] = data.groupby(['Medal', 'Sex'])[column].apply(lambda x: x.fillna(x.mean()).astype(np.int))"
      ],
      "outputs": [],
      "metadata": {
        "id": "QRvkc9UX7g6U"
      }
    },
    {
      "cell_type": "code",
      "execution_count": 34,
      "source": [
        "# Checking null values again\r\n",
        "print(\"Total missing values:\", data.isna().sum().sum())\r\n"
      ],
      "outputs": [
        {
          "output_type": "stream",
          "name": "stdout",
          "text": [
            "Total missing values: 0\n"
          ]
        }
      ],
      "metadata": {
        "colab": {
          "base_uri": "https://localhost:8080/"
        },
        "id": "NaGZX_wp7sQV",
        "outputId": "7306cd72-a1b6-45d4-e18c-567bcddcdb44"
      }
    },
    {
      "cell_type": "code",
      "execution_count": 35,
      "source": [
        "data"
      ],
      "outputs": [
        {
          "output_type": "execute_result",
          "data": {
            "text/plain": [
              "     Sex  Age  ...                                          Event  Medal\n",
              "0      M   24  ...                    Basketball Men's Basketball      0\n",
              "1      M   23  ...                   Judo Men's Extra-Lightweight      0\n",
              "2      M   24  ...                        Football Men's Football      0\n",
              "3      M   34  ...                    Tug-Of-War Men's Tug-Of-War      1\n",
              "4      F   21  ...               Speed Skating Women's 500 metres      0\n",
              "...   ..  ...  ...                                            ...    ...\n",
              "1018   M   23  ...                    Basketball Men's Basketball      0\n",
              "1019   M   24  ...            Cycling Men's Road Race, Individual      0\n",
              "1020   M   15  ...            Swimming Men's 400 metres Freestyle      0\n",
              "1021   M   15  ...  Swimming Men's 4 x 200 metres Freestyle Relay      0\n",
              "1022   M   19  ...            Swimming Men's 100 metres Freestyle      0\n",
              "\n",
              "[1023 rows x 12 columns]"
            ],
            "text/html": [
              "<div>\n",
              "<style scoped>\n",
              "    .dataframe tbody tr th:only-of-type {\n",
              "        vertical-align: middle;\n",
              "    }\n",
              "\n",
              "    .dataframe tbody tr th {\n",
              "        vertical-align: top;\n",
              "    }\n",
              "\n",
              "    .dataframe thead th {\n",
              "        text-align: right;\n",
              "    }\n",
              "</style>\n",
              "<table border=\"1\" class=\"dataframe\">\n",
              "  <thead>\n",
              "    <tr style=\"text-align: right;\">\n",
              "      <th></th>\n",
              "      <th>Sex</th>\n",
              "      <th>Age</th>\n",
              "      <th>Height</th>\n",
              "      <th>Weight</th>\n",
              "      <th>Team</th>\n",
              "      <th>NOC</th>\n",
              "      <th>Year</th>\n",
              "      <th>Season</th>\n",
              "      <th>City</th>\n",
              "      <th>Sport</th>\n",
              "      <th>Event</th>\n",
              "      <th>Medal</th>\n",
              "    </tr>\n",
              "  </thead>\n",
              "  <tbody>\n",
              "    <tr>\n",
              "      <th>0</th>\n",
              "      <td>M</td>\n",
              "      <td>24</td>\n",
              "      <td>180</td>\n",
              "      <td>80</td>\n",
              "      <td>China</td>\n",
              "      <td>CHN</td>\n",
              "      <td>1992</td>\n",
              "      <td>Summer</td>\n",
              "      <td>Barcelona</td>\n",
              "      <td>Basketball</td>\n",
              "      <td>Basketball Men's Basketball</td>\n",
              "      <td>0</td>\n",
              "    </tr>\n",
              "    <tr>\n",
              "      <th>1</th>\n",
              "      <td>M</td>\n",
              "      <td>23</td>\n",
              "      <td>170</td>\n",
              "      <td>60</td>\n",
              "      <td>China</td>\n",
              "      <td>CHN</td>\n",
              "      <td>2012</td>\n",
              "      <td>Summer</td>\n",
              "      <td>London</td>\n",
              "      <td>Judo</td>\n",
              "      <td>Judo Men's Extra-Lightweight</td>\n",
              "      <td>0</td>\n",
              "    </tr>\n",
              "    <tr>\n",
              "      <th>2</th>\n",
              "      <td>M</td>\n",
              "      <td>24</td>\n",
              "      <td>177</td>\n",
              "      <td>73</td>\n",
              "      <td>Denmark</td>\n",
              "      <td>DEN</td>\n",
              "      <td>1920</td>\n",
              "      <td>Summer</td>\n",
              "      <td>Antwerpen</td>\n",
              "      <td>Football</td>\n",
              "      <td>Football Men's Football</td>\n",
              "      <td>0</td>\n",
              "    </tr>\n",
              "    <tr>\n",
              "      <th>3</th>\n",
              "      <td>M</td>\n",
              "      <td>34</td>\n",
              "      <td>179</td>\n",
              "      <td>79</td>\n",
              "      <td>Denmark/Sweden</td>\n",
              "      <td>DEN</td>\n",
              "      <td>1900</td>\n",
              "      <td>Summer</td>\n",
              "      <td>Paris</td>\n",
              "      <td>Tug-Of-War</td>\n",
              "      <td>Tug-Of-War Men's Tug-Of-War</td>\n",
              "      <td>1</td>\n",
              "    </tr>\n",
              "    <tr>\n",
              "      <th>4</th>\n",
              "      <td>F</td>\n",
              "      <td>21</td>\n",
              "      <td>185</td>\n",
              "      <td>82</td>\n",
              "      <td>Netherlands</td>\n",
              "      <td>NED</td>\n",
              "      <td>1988</td>\n",
              "      <td>Winter</td>\n",
              "      <td>Calgary</td>\n",
              "      <td>Speed Skating</td>\n",
              "      <td>Speed Skating Women's 500 metres</td>\n",
              "      <td>0</td>\n",
              "    </tr>\n",
              "    <tr>\n",
              "      <th>...</th>\n",
              "      <td>...</td>\n",
              "      <td>...</td>\n",
              "      <td>...</td>\n",
              "      <td>...</td>\n",
              "      <td>...</td>\n",
              "      <td>...</td>\n",
              "      <td>...</td>\n",
              "      <td>...</td>\n",
              "      <td>...</td>\n",
              "      <td>...</td>\n",
              "      <td>...</td>\n",
              "      <td>...</td>\n",
              "    </tr>\n",
              "    <tr>\n",
              "      <th>1018</th>\n",
              "      <td>M</td>\n",
              "      <td>23</td>\n",
              "      <td>200</td>\n",
              "      <td>88</td>\n",
              "      <td>Cuba</td>\n",
              "      <td>CUB</td>\n",
              "      <td>1980</td>\n",
              "      <td>Summer</td>\n",
              "      <td>Moskva</td>\n",
              "      <td>Basketball</td>\n",
              "      <td>Basketball Men's Basketball</td>\n",
              "      <td>0</td>\n",
              "    </tr>\n",
              "    <tr>\n",
              "      <th>1019</th>\n",
              "      <td>M</td>\n",
              "      <td>24</td>\n",
              "      <td>177</td>\n",
              "      <td>71</td>\n",
              "      <td>Venezuela</td>\n",
              "      <td>VEN</td>\n",
              "      <td>1996</td>\n",
              "      <td>Summer</td>\n",
              "      <td>Atlanta</td>\n",
              "      <td>Cycling</td>\n",
              "      <td>Cycling Men's Road Race, Individual</td>\n",
              "      <td>0</td>\n",
              "    </tr>\n",
              "    <tr>\n",
              "      <th>1020</th>\n",
              "      <td>M</td>\n",
              "      <td>15</td>\n",
              "      <td>177</td>\n",
              "      <td>64</td>\n",
              "      <td>Portugal</td>\n",
              "      <td>POR</td>\n",
              "      <td>1976</td>\n",
              "      <td>Summer</td>\n",
              "      <td>Montreal</td>\n",
              "      <td>Swimming</td>\n",
              "      <td>Swimming Men's 400 metres Freestyle</td>\n",
              "      <td>0</td>\n",
              "    </tr>\n",
              "    <tr>\n",
              "      <th>1021</th>\n",
              "      <td>M</td>\n",
              "      <td>15</td>\n",
              "      <td>177</td>\n",
              "      <td>64</td>\n",
              "      <td>Portugal</td>\n",
              "      <td>POR</td>\n",
              "      <td>1976</td>\n",
              "      <td>Summer</td>\n",
              "      <td>Montreal</td>\n",
              "      <td>Swimming</td>\n",
              "      <td>Swimming Men's 4 x 200 metres Freestyle Relay</td>\n",
              "      <td>0</td>\n",
              "    </tr>\n",
              "    <tr>\n",
              "      <th>1022</th>\n",
              "      <td>M</td>\n",
              "      <td>19</td>\n",
              "      <td>177</td>\n",
              "      <td>64</td>\n",
              "      <td>Portugal</td>\n",
              "      <td>POR</td>\n",
              "      <td>1980</td>\n",
              "      <td>Summer</td>\n",
              "      <td>Moskva</td>\n",
              "      <td>Swimming</td>\n",
              "      <td>Swimming Men's 100 metres Freestyle</td>\n",
              "      <td>0</td>\n",
              "    </tr>\n",
              "  </tbody>\n",
              "</table>\n",
              "<p>1023 rows × 12 columns</p>\n",
              "</div>"
            ]
          },
          "metadata": {
            "tags": []
          },
          "execution_count": 35
        }
      ],
      "metadata": {
        "colab": {
          "base_uri": "https://localhost:8080/",
          "height": 415
        },
        "id": "Knm19Xzn73KB",
        "outputId": "006bd735-a93f-4ad4-aad4-9d6de1fcdc9f"
      }
    },
    {
      "cell_type": "code",
      "execution_count": 36,
      "source": [
        "# Checking no. of unique values in the column\r\n",
        "{column: len(data[column].unique()) for column in data.select_dtypes('object').columns}"
      ],
      "outputs": [
        {
          "output_type": "execute_result",
          "data": {
            "text/plain": [
              "{'City': 41,\n",
              " 'Event': 272,\n",
              " 'NOC': 106,\n",
              " 'Season': 2,\n",
              " 'Sex': 2,\n",
              " 'Sport': 47,\n",
              " 'Team': 115}"
            ]
          },
          "metadata": {
            "tags": []
          },
          "execution_count": 36
        }
      ],
      "metadata": {
        "colab": {
          "base_uri": "https://localhost:8080/"
        },
        "id": "N9wfMNE1eEAd",
        "outputId": "11207cd0-db07-4454-d5ef-02bb7f75c273"
      }
    },
    {
      "cell_type": "code",
      "execution_count": 37,
      "source": [
        "# defining the function.\r\n",
        "def binary_encode(df, columns, positive_values):\r\n",
        "    df = df.copy()\r\n",
        "    for column, positive_value in zip(columns, positive_values):\r\n",
        "        df[column] = df[column].apply(lambda x: 1 if x == positive_value else 0)\r\n",
        "    return df\r\n",
        "\r\n",
        "def onehot_encode(df, columns, prefixes):\r\n",
        "    df = df.copy()\r\n",
        "    for column, prefix in zip(columns, prefixes):\r\n",
        "        dummies = pd.get_dummies(df[column], prefix=prefix)\r\n",
        "        df = pd.concat([df, dummies], axis=1)\r\n",
        "        df = df.drop(column, axis=1)\r\n",
        "    return df"
      ],
      "outputs": [],
      "metadata": {
        "id": "CkAeDJeLeKA2"
      }
    },
    {
      "cell_type": "code",
      "execution_count": 38,
      "source": [
        "data = binary_encode(\r\n",
        "    data,\r\n",
        "    columns=['Sex', 'Season'],\r\n",
        "    positive_values=['M', 'Summer']\r\n",
        ")\r\n",
        "\r\n",
        "data = onehot_encode(\r\n",
        "    data,\r\n",
        "    columns=['Team', 'NOC', 'City', 'Sport', 'Event'],\r\n",
        "    prefixes=['T', 'N', 'C', 'S', 'E']\r\n",
        ")"
      ],
      "outputs": [],
      "metadata": {
        "id": "9hQr8RC3eOSR"
      }
    },
    {
      "cell_type": "code",
      "execution_count": 39,
      "source": [
        "data"
      ],
      "outputs": [
        {
          "output_type": "execute_result",
          "data": {
            "text/plain": [
              "      Sex  ...  E_Wrestling Men's Welterweight, Greco-Roman\n",
              "0       1  ...                                            0\n",
              "1       1  ...                                            0\n",
              "2       1  ...                                            0\n",
              "3       1  ...                                            0\n",
              "4       0  ...                                            0\n",
              "...   ...  ...                                          ...\n",
              "1018    1  ...                                            0\n",
              "1019    1  ...                                            0\n",
              "1020    1  ...                                            0\n",
              "1021    1  ...                                            0\n",
              "1022    1  ...                                            0\n",
              "\n",
              "[1023 rows x 588 columns]"
            ],
            "text/html": [
              "<div>\n",
              "<style scoped>\n",
              "    .dataframe tbody tr th:only-of-type {\n",
              "        vertical-align: middle;\n",
              "    }\n",
              "\n",
              "    .dataframe tbody tr th {\n",
              "        vertical-align: top;\n",
              "    }\n",
              "\n",
              "    .dataframe thead th {\n",
              "        text-align: right;\n",
              "    }\n",
              "</style>\n",
              "<table border=\"1\" class=\"dataframe\">\n",
              "  <thead>\n",
              "    <tr style=\"text-align: right;\">\n",
              "      <th></th>\n",
              "      <th>Sex</th>\n",
              "      <th>Age</th>\n",
              "      <th>Height</th>\n",
              "      <th>Weight</th>\n",
              "      <th>Year</th>\n",
              "      <th>Season</th>\n",
              "      <th>Medal</th>\n",
              "      <th>T_Afghanistan</th>\n",
              "      <th>T_Algeria</th>\n",
              "      <th>T_Angola</th>\n",
              "      <th>T_Argentina</th>\n",
              "      <th>T_Armenia</th>\n",
              "      <th>T_Australia</th>\n",
              "      <th>T_Azerbaijan</th>\n",
              "      <th>T_Bahrain</th>\n",
              "      <th>T_Belarus</th>\n",
              "      <th>T_Belgium</th>\n",
              "      <th>T_Benin</th>\n",
              "      <th>T_Brazil</th>\n",
              "      <th>T_Brunei</th>\n",
              "      <th>T_Bulgaria</th>\n",
              "      <th>T_Cameroon</th>\n",
              "      <th>T_Canada</th>\n",
              "      <th>T_Chad</th>\n",
              "      <th>T_Chile</th>\n",
              "      <th>T_China</th>\n",
              "      <th>T_Comoros</th>\n",
              "      <th>T_Congo (Brazzaville)</th>\n",
              "      <th>T_Costa Rica</th>\n",
              "      <th>T_Cote d'Ivoire</th>\n",
              "      <th>T_Croatia</th>\n",
              "      <th>T_Cuba</th>\n",
              "      <th>T_Denmark</th>\n",
              "      <th>T_Denmark/Sweden</th>\n",
              "      <th>T_Djibouti</th>\n",
              "      <th>T_East Germany</th>\n",
              "      <th>T_Egypt</th>\n",
              "      <th>T_Eritrea</th>\n",
              "      <th>T_Estonia</th>\n",
              "      <th>T_Ethiopia</th>\n",
              "      <th>...</th>\n",
              "      <th>E_Taekwondo Women's Featherweight</th>\n",
              "      <th>E_Taekwondo Women's Flyweight</th>\n",
              "      <th>E_Taekwondo Women's Heavyweight</th>\n",
              "      <th>E_Tennis Men's Doubles</th>\n",
              "      <th>E_Tennis Men's Singles</th>\n",
              "      <th>E_Trampolining Men's Individual</th>\n",
              "      <th>E_Tug-Of-War Men's Tug-Of-War</th>\n",
              "      <th>E_Volleyball Men's Volleyball</th>\n",
              "      <th>E_Volleyball Women's Volleyball</th>\n",
              "      <th>E_Water Polo Men's Water Polo</th>\n",
              "      <th>E_Water Polo Women's Water Polo</th>\n",
              "      <th>E_Weightlifting Men's Featherweight</th>\n",
              "      <th>E_Weightlifting Men's Flyweight</th>\n",
              "      <th>E_Weightlifting Men's Heavyweight</th>\n",
              "      <th>E_Weightlifting Men's Light-Heavyweight</th>\n",
              "      <th>E_Weightlifting Men's Lightweight</th>\n",
              "      <th>E_Weightlifting Men's Middle-Heavyweight</th>\n",
              "      <th>E_Weightlifting Men's Middleweight</th>\n",
              "      <th>E_Weightlifting Women's Featherweight</th>\n",
              "      <th>E_Weightlifting Women's Heavyweight</th>\n",
              "      <th>E_Weightlifting Women's Light-Heavyweight</th>\n",
              "      <th>E_Weightlifting Women's Lightweight</th>\n",
              "      <th>E_Weightlifting Women's Super-Heavyweight</th>\n",
              "      <th>E_Wrestling Men's Bantamweight, Freestyle</th>\n",
              "      <th>E_Wrestling Men's Bantamweight, Greco-Roman</th>\n",
              "      <th>E_Wrestling Men's Featherweight, Freestyle</th>\n",
              "      <th>E_Wrestling Men's Flyweight, Freestyle</th>\n",
              "      <th>E_Wrestling Men's Flyweight, Greco-Roman</th>\n",
              "      <th>E_Wrestling Men's Heavyweight, Freestyle</th>\n",
              "      <th>E_Wrestling Men's Heavyweight, Greco-Roman</th>\n",
              "      <th>E_Wrestling Men's Light-Heavyweight, Freestyle</th>\n",
              "      <th>E_Wrestling Men's Light-Heavyweight, Greco-Roman</th>\n",
              "      <th>E_Wrestling Men's Lightweight, Freestyle</th>\n",
              "      <th>E_Wrestling Men's Lightweight, Greco-Roman</th>\n",
              "      <th>E_Wrestling Men's Middleweight A, Greco-Roman</th>\n",
              "      <th>E_Wrestling Men's Middleweight, Freestyle</th>\n",
              "      <th>E_Wrestling Men's Middleweight, Greco-Roman</th>\n",
              "      <th>E_Wrestling Men's Super-Heavyweight, Greco-Roman</th>\n",
              "      <th>E_Wrestling Men's Welterweight, Freestyle</th>\n",
              "      <th>E_Wrestling Men's Welterweight, Greco-Roman</th>\n",
              "    </tr>\n",
              "  </thead>\n",
              "  <tbody>\n",
              "    <tr>\n",
              "      <th>0</th>\n",
              "      <td>1</td>\n",
              "      <td>24</td>\n",
              "      <td>180</td>\n",
              "      <td>80</td>\n",
              "      <td>1992</td>\n",
              "      <td>1</td>\n",
              "      <td>0</td>\n",
              "      <td>0</td>\n",
              "      <td>0</td>\n",
              "      <td>0</td>\n",
              "      <td>0</td>\n",
              "      <td>0</td>\n",
              "      <td>0</td>\n",
              "      <td>0</td>\n",
              "      <td>0</td>\n",
              "      <td>0</td>\n",
              "      <td>0</td>\n",
              "      <td>0</td>\n",
              "      <td>0</td>\n",
              "      <td>0</td>\n",
              "      <td>0</td>\n",
              "      <td>0</td>\n",
              "      <td>0</td>\n",
              "      <td>0</td>\n",
              "      <td>0</td>\n",
              "      <td>1</td>\n",
              "      <td>0</td>\n",
              "      <td>0</td>\n",
              "      <td>0</td>\n",
              "      <td>0</td>\n",
              "      <td>0</td>\n",
              "      <td>0</td>\n",
              "      <td>0</td>\n",
              "      <td>0</td>\n",
              "      <td>0</td>\n",
              "      <td>0</td>\n",
              "      <td>0</td>\n",
              "      <td>0</td>\n",
              "      <td>0</td>\n",
              "      <td>0</td>\n",
              "      <td>...</td>\n",
              "      <td>0</td>\n",
              "      <td>0</td>\n",
              "      <td>0</td>\n",
              "      <td>0</td>\n",
              "      <td>0</td>\n",
              "      <td>0</td>\n",
              "      <td>0</td>\n",
              "      <td>0</td>\n",
              "      <td>0</td>\n",
              "      <td>0</td>\n",
              "      <td>0</td>\n",
              "      <td>0</td>\n",
              "      <td>0</td>\n",
              "      <td>0</td>\n",
              "      <td>0</td>\n",
              "      <td>0</td>\n",
              "      <td>0</td>\n",
              "      <td>0</td>\n",
              "      <td>0</td>\n",
              "      <td>0</td>\n",
              "      <td>0</td>\n",
              "      <td>0</td>\n",
              "      <td>0</td>\n",
              "      <td>0</td>\n",
              "      <td>0</td>\n",
              "      <td>0</td>\n",
              "      <td>0</td>\n",
              "      <td>0</td>\n",
              "      <td>0</td>\n",
              "      <td>0</td>\n",
              "      <td>0</td>\n",
              "      <td>0</td>\n",
              "      <td>0</td>\n",
              "      <td>0</td>\n",
              "      <td>0</td>\n",
              "      <td>0</td>\n",
              "      <td>0</td>\n",
              "      <td>0</td>\n",
              "      <td>0</td>\n",
              "      <td>0</td>\n",
              "    </tr>\n",
              "    <tr>\n",
              "      <th>1</th>\n",
              "      <td>1</td>\n",
              "      <td>23</td>\n",
              "      <td>170</td>\n",
              "      <td>60</td>\n",
              "      <td>2012</td>\n",
              "      <td>1</td>\n",
              "      <td>0</td>\n",
              "      <td>0</td>\n",
              "      <td>0</td>\n",
              "      <td>0</td>\n",
              "      <td>0</td>\n",
              "      <td>0</td>\n",
              "      <td>0</td>\n",
              "      <td>0</td>\n",
              "      <td>0</td>\n",
              "      <td>0</td>\n",
              "      <td>0</td>\n",
              "      <td>0</td>\n",
              "      <td>0</td>\n",
              "      <td>0</td>\n",
              "      <td>0</td>\n",
              "      <td>0</td>\n",
              "      <td>0</td>\n",
              "      <td>0</td>\n",
              "      <td>0</td>\n",
              "      <td>1</td>\n",
              "      <td>0</td>\n",
              "      <td>0</td>\n",
              "      <td>0</td>\n",
              "      <td>0</td>\n",
              "      <td>0</td>\n",
              "      <td>0</td>\n",
              "      <td>0</td>\n",
              "      <td>0</td>\n",
              "      <td>0</td>\n",
              "      <td>0</td>\n",
              "      <td>0</td>\n",
              "      <td>0</td>\n",
              "      <td>0</td>\n",
              "      <td>0</td>\n",
              "      <td>...</td>\n",
              "      <td>0</td>\n",
              "      <td>0</td>\n",
              "      <td>0</td>\n",
              "      <td>0</td>\n",
              "      <td>0</td>\n",
              "      <td>0</td>\n",
              "      <td>0</td>\n",
              "      <td>0</td>\n",
              "      <td>0</td>\n",
              "      <td>0</td>\n",
              "      <td>0</td>\n",
              "      <td>0</td>\n",
              "      <td>0</td>\n",
              "      <td>0</td>\n",
              "      <td>0</td>\n",
              "      <td>0</td>\n",
              "      <td>0</td>\n",
              "      <td>0</td>\n",
              "      <td>0</td>\n",
              "      <td>0</td>\n",
              "      <td>0</td>\n",
              "      <td>0</td>\n",
              "      <td>0</td>\n",
              "      <td>0</td>\n",
              "      <td>0</td>\n",
              "      <td>0</td>\n",
              "      <td>0</td>\n",
              "      <td>0</td>\n",
              "      <td>0</td>\n",
              "      <td>0</td>\n",
              "      <td>0</td>\n",
              "      <td>0</td>\n",
              "      <td>0</td>\n",
              "      <td>0</td>\n",
              "      <td>0</td>\n",
              "      <td>0</td>\n",
              "      <td>0</td>\n",
              "      <td>0</td>\n",
              "      <td>0</td>\n",
              "      <td>0</td>\n",
              "    </tr>\n",
              "    <tr>\n",
              "      <th>2</th>\n",
              "      <td>1</td>\n",
              "      <td>24</td>\n",
              "      <td>177</td>\n",
              "      <td>73</td>\n",
              "      <td>1920</td>\n",
              "      <td>1</td>\n",
              "      <td>0</td>\n",
              "      <td>0</td>\n",
              "      <td>0</td>\n",
              "      <td>0</td>\n",
              "      <td>0</td>\n",
              "      <td>0</td>\n",
              "      <td>0</td>\n",
              "      <td>0</td>\n",
              "      <td>0</td>\n",
              "      <td>0</td>\n",
              "      <td>0</td>\n",
              "      <td>0</td>\n",
              "      <td>0</td>\n",
              "      <td>0</td>\n",
              "      <td>0</td>\n",
              "      <td>0</td>\n",
              "      <td>0</td>\n",
              "      <td>0</td>\n",
              "      <td>0</td>\n",
              "      <td>0</td>\n",
              "      <td>0</td>\n",
              "      <td>0</td>\n",
              "      <td>0</td>\n",
              "      <td>0</td>\n",
              "      <td>0</td>\n",
              "      <td>0</td>\n",
              "      <td>1</td>\n",
              "      <td>0</td>\n",
              "      <td>0</td>\n",
              "      <td>0</td>\n",
              "      <td>0</td>\n",
              "      <td>0</td>\n",
              "      <td>0</td>\n",
              "      <td>0</td>\n",
              "      <td>...</td>\n",
              "      <td>0</td>\n",
              "      <td>0</td>\n",
              "      <td>0</td>\n",
              "      <td>0</td>\n",
              "      <td>0</td>\n",
              "      <td>0</td>\n",
              "      <td>0</td>\n",
              "      <td>0</td>\n",
              "      <td>0</td>\n",
              "      <td>0</td>\n",
              "      <td>0</td>\n",
              "      <td>0</td>\n",
              "      <td>0</td>\n",
              "      <td>0</td>\n",
              "      <td>0</td>\n",
              "      <td>0</td>\n",
              "      <td>0</td>\n",
              "      <td>0</td>\n",
              "      <td>0</td>\n",
              "      <td>0</td>\n",
              "      <td>0</td>\n",
              "      <td>0</td>\n",
              "      <td>0</td>\n",
              "      <td>0</td>\n",
              "      <td>0</td>\n",
              "      <td>0</td>\n",
              "      <td>0</td>\n",
              "      <td>0</td>\n",
              "      <td>0</td>\n",
              "      <td>0</td>\n",
              "      <td>0</td>\n",
              "      <td>0</td>\n",
              "      <td>0</td>\n",
              "      <td>0</td>\n",
              "      <td>0</td>\n",
              "      <td>0</td>\n",
              "      <td>0</td>\n",
              "      <td>0</td>\n",
              "      <td>0</td>\n",
              "      <td>0</td>\n",
              "    </tr>\n",
              "    <tr>\n",
              "      <th>3</th>\n",
              "      <td>1</td>\n",
              "      <td>34</td>\n",
              "      <td>179</td>\n",
              "      <td>79</td>\n",
              "      <td>1900</td>\n",
              "      <td>1</td>\n",
              "      <td>1</td>\n",
              "      <td>0</td>\n",
              "      <td>0</td>\n",
              "      <td>0</td>\n",
              "      <td>0</td>\n",
              "      <td>0</td>\n",
              "      <td>0</td>\n",
              "      <td>0</td>\n",
              "      <td>0</td>\n",
              "      <td>0</td>\n",
              "      <td>0</td>\n",
              "      <td>0</td>\n",
              "      <td>0</td>\n",
              "      <td>0</td>\n",
              "      <td>0</td>\n",
              "      <td>0</td>\n",
              "      <td>0</td>\n",
              "      <td>0</td>\n",
              "      <td>0</td>\n",
              "      <td>0</td>\n",
              "      <td>0</td>\n",
              "      <td>0</td>\n",
              "      <td>0</td>\n",
              "      <td>0</td>\n",
              "      <td>0</td>\n",
              "      <td>0</td>\n",
              "      <td>0</td>\n",
              "      <td>1</td>\n",
              "      <td>0</td>\n",
              "      <td>0</td>\n",
              "      <td>0</td>\n",
              "      <td>0</td>\n",
              "      <td>0</td>\n",
              "      <td>0</td>\n",
              "      <td>...</td>\n",
              "      <td>0</td>\n",
              "      <td>0</td>\n",
              "      <td>0</td>\n",
              "      <td>0</td>\n",
              "      <td>0</td>\n",
              "      <td>0</td>\n",
              "      <td>1</td>\n",
              "      <td>0</td>\n",
              "      <td>0</td>\n",
              "      <td>0</td>\n",
              "      <td>0</td>\n",
              "      <td>0</td>\n",
              "      <td>0</td>\n",
              "      <td>0</td>\n",
              "      <td>0</td>\n",
              "      <td>0</td>\n",
              "      <td>0</td>\n",
              "      <td>0</td>\n",
              "      <td>0</td>\n",
              "      <td>0</td>\n",
              "      <td>0</td>\n",
              "      <td>0</td>\n",
              "      <td>0</td>\n",
              "      <td>0</td>\n",
              "      <td>0</td>\n",
              "      <td>0</td>\n",
              "      <td>0</td>\n",
              "      <td>0</td>\n",
              "      <td>0</td>\n",
              "      <td>0</td>\n",
              "      <td>0</td>\n",
              "      <td>0</td>\n",
              "      <td>0</td>\n",
              "      <td>0</td>\n",
              "      <td>0</td>\n",
              "      <td>0</td>\n",
              "      <td>0</td>\n",
              "      <td>0</td>\n",
              "      <td>0</td>\n",
              "      <td>0</td>\n",
              "    </tr>\n",
              "    <tr>\n",
              "      <th>4</th>\n",
              "      <td>0</td>\n",
              "      <td>21</td>\n",
              "      <td>185</td>\n",
              "      <td>82</td>\n",
              "      <td>1988</td>\n",
              "      <td>0</td>\n",
              "      <td>0</td>\n",
              "      <td>0</td>\n",
              "      <td>0</td>\n",
              "      <td>0</td>\n",
              "      <td>0</td>\n",
              "      <td>0</td>\n",
              "      <td>0</td>\n",
              "      <td>0</td>\n",
              "      <td>0</td>\n",
              "      <td>0</td>\n",
              "      <td>0</td>\n",
              "      <td>0</td>\n",
              "      <td>0</td>\n",
              "      <td>0</td>\n",
              "      <td>0</td>\n",
              "      <td>0</td>\n",
              "      <td>0</td>\n",
              "      <td>0</td>\n",
              "      <td>0</td>\n",
              "      <td>0</td>\n",
              "      <td>0</td>\n",
              "      <td>0</td>\n",
              "      <td>0</td>\n",
              "      <td>0</td>\n",
              "      <td>0</td>\n",
              "      <td>0</td>\n",
              "      <td>0</td>\n",
              "      <td>0</td>\n",
              "      <td>0</td>\n",
              "      <td>0</td>\n",
              "      <td>0</td>\n",
              "      <td>0</td>\n",
              "      <td>0</td>\n",
              "      <td>0</td>\n",
              "      <td>...</td>\n",
              "      <td>0</td>\n",
              "      <td>0</td>\n",
              "      <td>0</td>\n",
              "      <td>0</td>\n",
              "      <td>0</td>\n",
              "      <td>0</td>\n",
              "      <td>0</td>\n",
              "      <td>0</td>\n",
              "      <td>0</td>\n",
              "      <td>0</td>\n",
              "      <td>0</td>\n",
              "      <td>0</td>\n",
              "      <td>0</td>\n",
              "      <td>0</td>\n",
              "      <td>0</td>\n",
              "      <td>0</td>\n",
              "      <td>0</td>\n",
              "      <td>0</td>\n",
              "      <td>0</td>\n",
              "      <td>0</td>\n",
              "      <td>0</td>\n",
              "      <td>0</td>\n",
              "      <td>0</td>\n",
              "      <td>0</td>\n",
              "      <td>0</td>\n",
              "      <td>0</td>\n",
              "      <td>0</td>\n",
              "      <td>0</td>\n",
              "      <td>0</td>\n",
              "      <td>0</td>\n",
              "      <td>0</td>\n",
              "      <td>0</td>\n",
              "      <td>0</td>\n",
              "      <td>0</td>\n",
              "      <td>0</td>\n",
              "      <td>0</td>\n",
              "      <td>0</td>\n",
              "      <td>0</td>\n",
              "      <td>0</td>\n",
              "      <td>0</td>\n",
              "    </tr>\n",
              "    <tr>\n",
              "      <th>...</th>\n",
              "      <td>...</td>\n",
              "      <td>...</td>\n",
              "      <td>...</td>\n",
              "      <td>...</td>\n",
              "      <td>...</td>\n",
              "      <td>...</td>\n",
              "      <td>...</td>\n",
              "      <td>...</td>\n",
              "      <td>...</td>\n",
              "      <td>...</td>\n",
              "      <td>...</td>\n",
              "      <td>...</td>\n",
              "      <td>...</td>\n",
              "      <td>...</td>\n",
              "      <td>...</td>\n",
              "      <td>...</td>\n",
              "      <td>...</td>\n",
              "      <td>...</td>\n",
              "      <td>...</td>\n",
              "      <td>...</td>\n",
              "      <td>...</td>\n",
              "      <td>...</td>\n",
              "      <td>...</td>\n",
              "      <td>...</td>\n",
              "      <td>...</td>\n",
              "      <td>...</td>\n",
              "      <td>...</td>\n",
              "      <td>...</td>\n",
              "      <td>...</td>\n",
              "      <td>...</td>\n",
              "      <td>...</td>\n",
              "      <td>...</td>\n",
              "      <td>...</td>\n",
              "      <td>...</td>\n",
              "      <td>...</td>\n",
              "      <td>...</td>\n",
              "      <td>...</td>\n",
              "      <td>...</td>\n",
              "      <td>...</td>\n",
              "      <td>...</td>\n",
              "      <td>...</td>\n",
              "      <td>...</td>\n",
              "      <td>...</td>\n",
              "      <td>...</td>\n",
              "      <td>...</td>\n",
              "      <td>...</td>\n",
              "      <td>...</td>\n",
              "      <td>...</td>\n",
              "      <td>...</td>\n",
              "      <td>...</td>\n",
              "      <td>...</td>\n",
              "      <td>...</td>\n",
              "      <td>...</td>\n",
              "      <td>...</td>\n",
              "      <td>...</td>\n",
              "      <td>...</td>\n",
              "      <td>...</td>\n",
              "      <td>...</td>\n",
              "      <td>...</td>\n",
              "      <td>...</td>\n",
              "      <td>...</td>\n",
              "      <td>...</td>\n",
              "      <td>...</td>\n",
              "      <td>...</td>\n",
              "      <td>...</td>\n",
              "      <td>...</td>\n",
              "      <td>...</td>\n",
              "      <td>...</td>\n",
              "      <td>...</td>\n",
              "      <td>...</td>\n",
              "      <td>...</td>\n",
              "      <td>...</td>\n",
              "      <td>...</td>\n",
              "      <td>...</td>\n",
              "      <td>...</td>\n",
              "      <td>...</td>\n",
              "      <td>...</td>\n",
              "      <td>...</td>\n",
              "      <td>...</td>\n",
              "      <td>...</td>\n",
              "      <td>...</td>\n",
              "    </tr>\n",
              "    <tr>\n",
              "      <th>1018</th>\n",
              "      <td>1</td>\n",
              "      <td>23</td>\n",
              "      <td>200</td>\n",
              "      <td>88</td>\n",
              "      <td>1980</td>\n",
              "      <td>1</td>\n",
              "      <td>0</td>\n",
              "      <td>0</td>\n",
              "      <td>0</td>\n",
              "      <td>0</td>\n",
              "      <td>0</td>\n",
              "      <td>0</td>\n",
              "      <td>0</td>\n",
              "      <td>0</td>\n",
              "      <td>0</td>\n",
              "      <td>0</td>\n",
              "      <td>0</td>\n",
              "      <td>0</td>\n",
              "      <td>0</td>\n",
              "      <td>0</td>\n",
              "      <td>0</td>\n",
              "      <td>0</td>\n",
              "      <td>0</td>\n",
              "      <td>0</td>\n",
              "      <td>0</td>\n",
              "      <td>0</td>\n",
              "      <td>0</td>\n",
              "      <td>0</td>\n",
              "      <td>0</td>\n",
              "      <td>0</td>\n",
              "      <td>0</td>\n",
              "      <td>1</td>\n",
              "      <td>0</td>\n",
              "      <td>0</td>\n",
              "      <td>0</td>\n",
              "      <td>0</td>\n",
              "      <td>0</td>\n",
              "      <td>0</td>\n",
              "      <td>0</td>\n",
              "      <td>0</td>\n",
              "      <td>...</td>\n",
              "      <td>0</td>\n",
              "      <td>0</td>\n",
              "      <td>0</td>\n",
              "      <td>0</td>\n",
              "      <td>0</td>\n",
              "      <td>0</td>\n",
              "      <td>0</td>\n",
              "      <td>0</td>\n",
              "      <td>0</td>\n",
              "      <td>0</td>\n",
              "      <td>0</td>\n",
              "      <td>0</td>\n",
              "      <td>0</td>\n",
              "      <td>0</td>\n",
              "      <td>0</td>\n",
              "      <td>0</td>\n",
              "      <td>0</td>\n",
              "      <td>0</td>\n",
              "      <td>0</td>\n",
              "      <td>0</td>\n",
              "      <td>0</td>\n",
              "      <td>0</td>\n",
              "      <td>0</td>\n",
              "      <td>0</td>\n",
              "      <td>0</td>\n",
              "      <td>0</td>\n",
              "      <td>0</td>\n",
              "      <td>0</td>\n",
              "      <td>0</td>\n",
              "      <td>0</td>\n",
              "      <td>0</td>\n",
              "      <td>0</td>\n",
              "      <td>0</td>\n",
              "      <td>0</td>\n",
              "      <td>0</td>\n",
              "      <td>0</td>\n",
              "      <td>0</td>\n",
              "      <td>0</td>\n",
              "      <td>0</td>\n",
              "      <td>0</td>\n",
              "    </tr>\n",
              "    <tr>\n",
              "      <th>1019</th>\n",
              "      <td>1</td>\n",
              "      <td>24</td>\n",
              "      <td>177</td>\n",
              "      <td>71</td>\n",
              "      <td>1996</td>\n",
              "      <td>1</td>\n",
              "      <td>0</td>\n",
              "      <td>0</td>\n",
              "      <td>0</td>\n",
              "      <td>0</td>\n",
              "      <td>0</td>\n",
              "      <td>0</td>\n",
              "      <td>0</td>\n",
              "      <td>0</td>\n",
              "      <td>0</td>\n",
              "      <td>0</td>\n",
              "      <td>0</td>\n",
              "      <td>0</td>\n",
              "      <td>0</td>\n",
              "      <td>0</td>\n",
              "      <td>0</td>\n",
              "      <td>0</td>\n",
              "      <td>0</td>\n",
              "      <td>0</td>\n",
              "      <td>0</td>\n",
              "      <td>0</td>\n",
              "      <td>0</td>\n",
              "      <td>0</td>\n",
              "      <td>0</td>\n",
              "      <td>0</td>\n",
              "      <td>0</td>\n",
              "      <td>0</td>\n",
              "      <td>0</td>\n",
              "      <td>0</td>\n",
              "      <td>0</td>\n",
              "      <td>0</td>\n",
              "      <td>0</td>\n",
              "      <td>0</td>\n",
              "      <td>0</td>\n",
              "      <td>0</td>\n",
              "      <td>...</td>\n",
              "      <td>0</td>\n",
              "      <td>0</td>\n",
              "      <td>0</td>\n",
              "      <td>0</td>\n",
              "      <td>0</td>\n",
              "      <td>0</td>\n",
              "      <td>0</td>\n",
              "      <td>0</td>\n",
              "      <td>0</td>\n",
              "      <td>0</td>\n",
              "      <td>0</td>\n",
              "      <td>0</td>\n",
              "      <td>0</td>\n",
              "      <td>0</td>\n",
              "      <td>0</td>\n",
              "      <td>0</td>\n",
              "      <td>0</td>\n",
              "      <td>0</td>\n",
              "      <td>0</td>\n",
              "      <td>0</td>\n",
              "      <td>0</td>\n",
              "      <td>0</td>\n",
              "      <td>0</td>\n",
              "      <td>0</td>\n",
              "      <td>0</td>\n",
              "      <td>0</td>\n",
              "      <td>0</td>\n",
              "      <td>0</td>\n",
              "      <td>0</td>\n",
              "      <td>0</td>\n",
              "      <td>0</td>\n",
              "      <td>0</td>\n",
              "      <td>0</td>\n",
              "      <td>0</td>\n",
              "      <td>0</td>\n",
              "      <td>0</td>\n",
              "      <td>0</td>\n",
              "      <td>0</td>\n",
              "      <td>0</td>\n",
              "      <td>0</td>\n",
              "    </tr>\n",
              "    <tr>\n",
              "      <th>1020</th>\n",
              "      <td>1</td>\n",
              "      <td>15</td>\n",
              "      <td>177</td>\n",
              "      <td>64</td>\n",
              "      <td>1976</td>\n",
              "      <td>1</td>\n",
              "      <td>0</td>\n",
              "      <td>0</td>\n",
              "      <td>0</td>\n",
              "      <td>0</td>\n",
              "      <td>0</td>\n",
              "      <td>0</td>\n",
              "      <td>0</td>\n",
              "      <td>0</td>\n",
              "      <td>0</td>\n",
              "      <td>0</td>\n",
              "      <td>0</td>\n",
              "      <td>0</td>\n",
              "      <td>0</td>\n",
              "      <td>0</td>\n",
              "      <td>0</td>\n",
              "      <td>0</td>\n",
              "      <td>0</td>\n",
              "      <td>0</td>\n",
              "      <td>0</td>\n",
              "      <td>0</td>\n",
              "      <td>0</td>\n",
              "      <td>0</td>\n",
              "      <td>0</td>\n",
              "      <td>0</td>\n",
              "      <td>0</td>\n",
              "      <td>0</td>\n",
              "      <td>0</td>\n",
              "      <td>0</td>\n",
              "      <td>0</td>\n",
              "      <td>0</td>\n",
              "      <td>0</td>\n",
              "      <td>0</td>\n",
              "      <td>0</td>\n",
              "      <td>0</td>\n",
              "      <td>...</td>\n",
              "      <td>0</td>\n",
              "      <td>0</td>\n",
              "      <td>0</td>\n",
              "      <td>0</td>\n",
              "      <td>0</td>\n",
              "      <td>0</td>\n",
              "      <td>0</td>\n",
              "      <td>0</td>\n",
              "      <td>0</td>\n",
              "      <td>0</td>\n",
              "      <td>0</td>\n",
              "      <td>0</td>\n",
              "      <td>0</td>\n",
              "      <td>0</td>\n",
              "      <td>0</td>\n",
              "      <td>0</td>\n",
              "      <td>0</td>\n",
              "      <td>0</td>\n",
              "      <td>0</td>\n",
              "      <td>0</td>\n",
              "      <td>0</td>\n",
              "      <td>0</td>\n",
              "      <td>0</td>\n",
              "      <td>0</td>\n",
              "      <td>0</td>\n",
              "      <td>0</td>\n",
              "      <td>0</td>\n",
              "      <td>0</td>\n",
              "      <td>0</td>\n",
              "      <td>0</td>\n",
              "      <td>0</td>\n",
              "      <td>0</td>\n",
              "      <td>0</td>\n",
              "      <td>0</td>\n",
              "      <td>0</td>\n",
              "      <td>0</td>\n",
              "      <td>0</td>\n",
              "      <td>0</td>\n",
              "      <td>0</td>\n",
              "      <td>0</td>\n",
              "    </tr>\n",
              "    <tr>\n",
              "      <th>1021</th>\n",
              "      <td>1</td>\n",
              "      <td>15</td>\n",
              "      <td>177</td>\n",
              "      <td>64</td>\n",
              "      <td>1976</td>\n",
              "      <td>1</td>\n",
              "      <td>0</td>\n",
              "      <td>0</td>\n",
              "      <td>0</td>\n",
              "      <td>0</td>\n",
              "      <td>0</td>\n",
              "      <td>0</td>\n",
              "      <td>0</td>\n",
              "      <td>0</td>\n",
              "      <td>0</td>\n",
              "      <td>0</td>\n",
              "      <td>0</td>\n",
              "      <td>0</td>\n",
              "      <td>0</td>\n",
              "      <td>0</td>\n",
              "      <td>0</td>\n",
              "      <td>0</td>\n",
              "      <td>0</td>\n",
              "      <td>0</td>\n",
              "      <td>0</td>\n",
              "      <td>0</td>\n",
              "      <td>0</td>\n",
              "      <td>0</td>\n",
              "      <td>0</td>\n",
              "      <td>0</td>\n",
              "      <td>0</td>\n",
              "      <td>0</td>\n",
              "      <td>0</td>\n",
              "      <td>0</td>\n",
              "      <td>0</td>\n",
              "      <td>0</td>\n",
              "      <td>0</td>\n",
              "      <td>0</td>\n",
              "      <td>0</td>\n",
              "      <td>0</td>\n",
              "      <td>...</td>\n",
              "      <td>0</td>\n",
              "      <td>0</td>\n",
              "      <td>0</td>\n",
              "      <td>0</td>\n",
              "      <td>0</td>\n",
              "      <td>0</td>\n",
              "      <td>0</td>\n",
              "      <td>0</td>\n",
              "      <td>0</td>\n",
              "      <td>0</td>\n",
              "      <td>0</td>\n",
              "      <td>0</td>\n",
              "      <td>0</td>\n",
              "      <td>0</td>\n",
              "      <td>0</td>\n",
              "      <td>0</td>\n",
              "      <td>0</td>\n",
              "      <td>0</td>\n",
              "      <td>0</td>\n",
              "      <td>0</td>\n",
              "      <td>0</td>\n",
              "      <td>0</td>\n",
              "      <td>0</td>\n",
              "      <td>0</td>\n",
              "      <td>0</td>\n",
              "      <td>0</td>\n",
              "      <td>0</td>\n",
              "      <td>0</td>\n",
              "      <td>0</td>\n",
              "      <td>0</td>\n",
              "      <td>0</td>\n",
              "      <td>0</td>\n",
              "      <td>0</td>\n",
              "      <td>0</td>\n",
              "      <td>0</td>\n",
              "      <td>0</td>\n",
              "      <td>0</td>\n",
              "      <td>0</td>\n",
              "      <td>0</td>\n",
              "      <td>0</td>\n",
              "    </tr>\n",
              "    <tr>\n",
              "      <th>1022</th>\n",
              "      <td>1</td>\n",
              "      <td>19</td>\n",
              "      <td>177</td>\n",
              "      <td>64</td>\n",
              "      <td>1980</td>\n",
              "      <td>1</td>\n",
              "      <td>0</td>\n",
              "      <td>0</td>\n",
              "      <td>0</td>\n",
              "      <td>0</td>\n",
              "      <td>0</td>\n",
              "      <td>0</td>\n",
              "      <td>0</td>\n",
              "      <td>0</td>\n",
              "      <td>0</td>\n",
              "      <td>0</td>\n",
              "      <td>0</td>\n",
              "      <td>0</td>\n",
              "      <td>0</td>\n",
              "      <td>0</td>\n",
              "      <td>0</td>\n",
              "      <td>0</td>\n",
              "      <td>0</td>\n",
              "      <td>0</td>\n",
              "      <td>0</td>\n",
              "      <td>0</td>\n",
              "      <td>0</td>\n",
              "      <td>0</td>\n",
              "      <td>0</td>\n",
              "      <td>0</td>\n",
              "      <td>0</td>\n",
              "      <td>0</td>\n",
              "      <td>0</td>\n",
              "      <td>0</td>\n",
              "      <td>0</td>\n",
              "      <td>0</td>\n",
              "      <td>0</td>\n",
              "      <td>0</td>\n",
              "      <td>0</td>\n",
              "      <td>0</td>\n",
              "      <td>...</td>\n",
              "      <td>0</td>\n",
              "      <td>0</td>\n",
              "      <td>0</td>\n",
              "      <td>0</td>\n",
              "      <td>0</td>\n",
              "      <td>0</td>\n",
              "      <td>0</td>\n",
              "      <td>0</td>\n",
              "      <td>0</td>\n",
              "      <td>0</td>\n",
              "      <td>0</td>\n",
              "      <td>0</td>\n",
              "      <td>0</td>\n",
              "      <td>0</td>\n",
              "      <td>0</td>\n",
              "      <td>0</td>\n",
              "      <td>0</td>\n",
              "      <td>0</td>\n",
              "      <td>0</td>\n",
              "      <td>0</td>\n",
              "      <td>0</td>\n",
              "      <td>0</td>\n",
              "      <td>0</td>\n",
              "      <td>0</td>\n",
              "      <td>0</td>\n",
              "      <td>0</td>\n",
              "      <td>0</td>\n",
              "      <td>0</td>\n",
              "      <td>0</td>\n",
              "      <td>0</td>\n",
              "      <td>0</td>\n",
              "      <td>0</td>\n",
              "      <td>0</td>\n",
              "      <td>0</td>\n",
              "      <td>0</td>\n",
              "      <td>0</td>\n",
              "      <td>0</td>\n",
              "      <td>0</td>\n",
              "      <td>0</td>\n",
              "      <td>0</td>\n",
              "    </tr>\n",
              "  </tbody>\n",
              "</table>\n",
              "<p>1023 rows × 588 columns</p>\n",
              "</div>"
            ]
          },
          "metadata": {
            "tags": []
          },
          "execution_count": 39
        }
      ],
      "metadata": {
        "colab": {
          "base_uri": "https://localhost:8080/",
          "height": 502
        },
        "id": "YmJHOcRweWzd",
        "outputId": "d5578068-125d-499e-e904-2890e85acedf"
      }
    },
    {
      "cell_type": "code",
      "execution_count": 40,
      "source": [
        "# Spilt data in target column and features columns\r\n",
        "y = data['Medal']\r\n",
        "X = data.drop('Medal', axis=1)"
      ],
      "outputs": [],
      "metadata": {
        "id": "HgZ62hSlq1Zt"
      }
    },
    {
      "cell_type": "markdown",
      "source": [
        "## Feature Selection"
      ],
      "metadata": {
        "id": "LnbY1oL2RCGA"
      }
    },
    {
      "cell_type": "code",
      "execution_count": 41,
      "source": [
        "#Apply SelectKBest and extract top 10 features out of the data\r\n",
        "best = SelectKBest(score_func=chi2, k=10)"
      ],
      "outputs": [],
      "metadata": {
        "id": "I_dx_kJx7OPK"
      }
    },
    {
      "cell_type": "code",
      "execution_count": 42,
      "source": [
        "fit = best.fit(X,y)\r\n"
      ],
      "outputs": [],
      "metadata": {
        "id": "HvL7iLHA7OoX"
      }
    },
    {
      "cell_type": "code",
      "execution_count": 43,
      "source": [
        "data_scores=pd.DataFrame(fit.scores_)\r\n",
        "data_columns=pd.DataFrame(X.columns)"
      ],
      "outputs": [],
      "metadata": {
        "id": "uzZgxTZ17OxY"
      }
    },
    {
      "cell_type": "code",
      "execution_count": 44,
      "source": [
        "# Join the two dataframes\r\n",
        "scores=pd.concat([data_columns,data_scores],axis=1)\r\n",
        "scores.columns=['Feature','Score']\r\n",
        "print(scores.nlargest(11,'Score'))\r\n"
      ],
      "outputs": [
        {
          "output_type": "stream",
          "name": "stdout",
          "text": [
            "                                             Feature      Score\n",
            "3                                             Weight  37.606077\n",
            "56                                           T_Italy  36.976169\n",
            "172                                            N_ITA  36.976169\n",
            "476                       E_Rowing Men's Coxed Pairs  33.664149\n",
            "49                                         T_Hungary  32.245193\n",
            "164                                            N_HUN  32.245193\n",
            "319                    E_Alpine Skiing Men's Super G  24.453160\n",
            "449  E_Gymnastics Men's Team All-Around, Free System  24.401786\n",
            "298                                         S_Rowing  22.201309\n",
            "35                                           T_Egypt  21.044390\n",
            "148                                            N_EGY  21.044390\n"
          ]
        }
      ],
      "metadata": {
        "colab": {
          "base_uri": "https://localhost:8080/"
        },
        "id": "H8NWThk07O1o",
        "outputId": "6fcbe346-0e5c-49bd-d9a5-2fd2142500b3"
      }
    },
    {
      "cell_type": "code",
      "execution_count": 45,
      "source": [
        "# Select 10 features\r\n",
        "features=scores[\"Feature\"].tolist()[:10]\r\n",
        "features"
      ],
      "outputs": [
        {
          "output_type": "execute_result",
          "data": {
            "text/plain": [
              "['Sex',\n",
              " 'Age',\n",
              " 'Height',\n",
              " 'Weight',\n",
              " 'Year',\n",
              " 'Season',\n",
              " 'T_Afghanistan',\n",
              " 'T_Algeria',\n",
              " 'T_Angola',\n",
              " 'T_Argentina']"
            ]
          },
          "metadata": {
            "tags": []
          },
          "execution_count": 45
        }
      ],
      "metadata": {
        "colab": {
          "base_uri": "https://localhost:8080/"
        },
        "id": "MuQsNThW7O7D",
        "outputId": "0b81b431-4a72-40e7-a8d9-5e1c3d7bbbd4"
      }
    },
    {
      "cell_type": "markdown",
      "source": [
        "## Make new dataset with cleaned data"
      ],
      "metadata": {
        "id": "K7sRUD-gRgCc"
      }
    },
    {
      "cell_type": "code",
      "execution_count": 46,
      "source": [
        "data=data[['Age','Sex','Height','Weight','Year','Season','T_Afghanistan','T_Algeria','T_Angola','T_Argentina','Medal']]\r\n",
        "data.head()"
      ],
      "outputs": [
        {
          "output_type": "execute_result",
          "data": {
            "text/plain": [
              "   Age  Sex  Height  Weight  ...  T_Algeria  T_Angola  T_Argentina  Medal\n",
              "0   24    1     180      80  ...          0         0            0      0\n",
              "1   23    1     170      60  ...          0         0            0      0\n",
              "2   24    1     177      73  ...          0         0            0      0\n",
              "3   34    1     179      79  ...          0         0            0      1\n",
              "4   21    0     185      82  ...          0         0            0      0\n",
              "\n",
              "[5 rows x 11 columns]"
            ],
            "text/html": [
              "<div>\n",
              "<style scoped>\n",
              "    .dataframe tbody tr th:only-of-type {\n",
              "        vertical-align: middle;\n",
              "    }\n",
              "\n",
              "    .dataframe tbody tr th {\n",
              "        vertical-align: top;\n",
              "    }\n",
              "\n",
              "    .dataframe thead th {\n",
              "        text-align: right;\n",
              "    }\n",
              "</style>\n",
              "<table border=\"1\" class=\"dataframe\">\n",
              "  <thead>\n",
              "    <tr style=\"text-align: right;\">\n",
              "      <th></th>\n",
              "      <th>Age</th>\n",
              "      <th>Sex</th>\n",
              "      <th>Height</th>\n",
              "      <th>Weight</th>\n",
              "      <th>Year</th>\n",
              "      <th>Season</th>\n",
              "      <th>T_Afghanistan</th>\n",
              "      <th>T_Algeria</th>\n",
              "      <th>T_Angola</th>\n",
              "      <th>T_Argentina</th>\n",
              "      <th>Medal</th>\n",
              "    </tr>\n",
              "  </thead>\n",
              "  <tbody>\n",
              "    <tr>\n",
              "      <th>0</th>\n",
              "      <td>24</td>\n",
              "      <td>1</td>\n",
              "      <td>180</td>\n",
              "      <td>80</td>\n",
              "      <td>1992</td>\n",
              "      <td>1</td>\n",
              "      <td>0</td>\n",
              "      <td>0</td>\n",
              "      <td>0</td>\n",
              "      <td>0</td>\n",
              "      <td>0</td>\n",
              "    </tr>\n",
              "    <tr>\n",
              "      <th>1</th>\n",
              "      <td>23</td>\n",
              "      <td>1</td>\n",
              "      <td>170</td>\n",
              "      <td>60</td>\n",
              "      <td>2012</td>\n",
              "      <td>1</td>\n",
              "      <td>0</td>\n",
              "      <td>0</td>\n",
              "      <td>0</td>\n",
              "      <td>0</td>\n",
              "      <td>0</td>\n",
              "    </tr>\n",
              "    <tr>\n",
              "      <th>2</th>\n",
              "      <td>24</td>\n",
              "      <td>1</td>\n",
              "      <td>177</td>\n",
              "      <td>73</td>\n",
              "      <td>1920</td>\n",
              "      <td>1</td>\n",
              "      <td>0</td>\n",
              "      <td>0</td>\n",
              "      <td>0</td>\n",
              "      <td>0</td>\n",
              "      <td>0</td>\n",
              "    </tr>\n",
              "    <tr>\n",
              "      <th>3</th>\n",
              "      <td>34</td>\n",
              "      <td>1</td>\n",
              "      <td>179</td>\n",
              "      <td>79</td>\n",
              "      <td>1900</td>\n",
              "      <td>1</td>\n",
              "      <td>0</td>\n",
              "      <td>0</td>\n",
              "      <td>0</td>\n",
              "      <td>0</td>\n",
              "      <td>1</td>\n",
              "    </tr>\n",
              "    <tr>\n",
              "      <th>4</th>\n",
              "      <td>21</td>\n",
              "      <td>0</td>\n",
              "      <td>185</td>\n",
              "      <td>82</td>\n",
              "      <td>1988</td>\n",
              "      <td>0</td>\n",
              "      <td>0</td>\n",
              "      <td>0</td>\n",
              "      <td>0</td>\n",
              "      <td>0</td>\n",
              "      <td>0</td>\n",
              "    </tr>\n",
              "  </tbody>\n",
              "</table>\n",
              "</div>"
            ]
          },
          "metadata": {
            "tags": []
          },
          "execution_count": 46
        }
      ],
      "metadata": {
        "colab": {
          "base_uri": "https://localhost:8080/",
          "height": 0
        },
        "id": "amgfnPgs7kJv",
        "outputId": "c1f66afb-55a0-4a8b-afe8-3436bc162d91"
      }
    },
    {
      "cell_type": "code",
      "execution_count": 47,
      "source": [
        "y = data['Medal']\r\n",
        "X = data.drop(['Medal'], axis=1)\r\n",
        "\r\n",
        "#Split data into training and testing data\r\n",
        "train_x, test_x, train_y, test_y = train_test_split(X, y, test_size=0.4, random_state=1)\r\n"
      ],
      "outputs": [],
      "metadata": {
        "id": "XxFf_eJ28Qo4"
      }
    },
    {
      "cell_type": "markdown",
      "source": [
        "## Feature Scaling"
      ],
      "metadata": {
        "id": "zl3u97MGR4jN"
      }
    },
    {
      "cell_type": "code",
      "execution_count": 48,
      "source": [
        "# Scaling data \r\n",
        "scaler = MinMaxScaler()\r\n",
        "train_x = scaler.fit_transform(train_x)\r\n",
        "test_x = scaler.transform(test_x)"
      ],
      "outputs": [],
      "metadata": {
        "id": "iMrc5Wcr8gBI"
      }
    },
    {
      "cell_type": "markdown",
      "source": [
        "## Predictive Modeling"
      ],
      "metadata": {
        "id": "D_1XPe4DR-py"
      }
    },
    {
      "cell_type": "code",
      "execution_count": 53,
      "source": [
        "# 1. Logistic Regression\r\n",
        "\r\n",
        "algo1 = 'LogisticRegression'\r\n",
        "lr = LogisticRegression(random_state=1, max_iter=1000)\r\n",
        "lr.fit(train_x, train_y)\r\n",
        "lr_predict = lr.predict(test_x)\r\n",
        "lr_conf_matrix = confusion_matrix(test_y, lr_predict)\r\n",
        "lr_acc_score = accuracy_score(test_y, lr_predict)\r\n",
        "print(\"confusion matrix\")\r\n",
        "print(lr_conf_matrix)\r\n",
        "print(\"\\n\")\r\n",
        "print(\"Accuracy of Logistic Regression:\",lr_acc_score*100,'\\n')\r\n",
        "print(classification_report(test_y,lr_predict))"
      ],
      "outputs": [
        {
          "output_type": "stream",
          "name": "stdout",
          "text": [
            "confusion matrix\n",
            "[[359   0]\n",
            " [ 51   0]]\n",
            "\n",
            "\n",
            "Accuracy of Logistic Regression: 87.5609756097561 \n",
            "\n",
            "              precision    recall  f1-score   support\n",
            "\n",
            "           0       0.88      1.00      0.93       359\n",
            "           1       0.00      0.00      0.00        51\n",
            "\n",
            "    accuracy                           0.88       410\n",
            "   macro avg       0.44      0.50      0.47       410\n",
            "weighted avg       0.77      0.88      0.82       410\n",
            "\n"
          ]
        },
        {
          "output_type": "stream",
          "name": "stderr",
          "text": [
            "/usr/local/lib/python3.7/dist-packages/sklearn/metrics/_classification.py:1272: UndefinedMetricWarning: Precision and F-score are ill-defined and being set to 0.0 in labels with no predicted samples. Use `zero_division` parameter to control this behavior.\n",
            "  _warn_prf(average, modifier, msg_start, len(result))\n"
          ]
        }
      ],
      "metadata": {
        "colab": {
          "base_uri": "https://localhost:8080/"
        },
        "id": "b8hpiG39zeRN",
        "outputId": "f5ee8e24-0bce-4e09-d020-a5fa4183849e"
      }
    },
    {
      "cell_type": "code",
      "execution_count": 54,
      "source": [
        "# 2. Multinomial Naive Bayes\r\n",
        "\r\n",
        "algo2 = 'MultinomialNB'\r\n",
        "nv = MultinomialNB()\r\n",
        "nv.fit(train_x, train_y)\r\n",
        "nv_predict = nv.predict(test_x)\r\n",
        "nv_conf_matrix = confusion_matrix(test_y, nv_predict)\r\n",
        "nv_acc_score = accuracy_score(test_y, nv_predict)\r\n",
        "print(\"confusion matrix\")\r\n",
        "print(nv_conf_matrix)\r\n",
        "print(\"\\n\")\r\n",
        "print(\"Accuracy of Logistic Regression:\",nv_acc_score*100,'\\n')\r\n",
        "print(classification_report(test_y,nv_predict))"
      ],
      "outputs": [
        {
          "output_type": "stream",
          "name": "stdout",
          "text": [
            "confusion matrix\n",
            "[[359   0]\n",
            " [ 51   0]]\n",
            "\n",
            "\n",
            "Accuracy of Logistic Regression: 87.5609756097561 \n",
            "\n",
            "              precision    recall  f1-score   support\n",
            "\n",
            "           0       0.88      1.00      0.93       359\n",
            "           1       0.00      0.00      0.00        51\n",
            "\n",
            "    accuracy                           0.88       410\n",
            "   macro avg       0.44      0.50      0.47       410\n",
            "weighted avg       0.77      0.88      0.82       410\n",
            "\n"
          ]
        },
        {
          "output_type": "stream",
          "name": "stderr",
          "text": [
            "/usr/local/lib/python3.7/dist-packages/sklearn/metrics/_classification.py:1272: UndefinedMetricWarning: Precision and F-score are ill-defined and being set to 0.0 in labels with no predicted samples. Use `zero_division` parameter to control this behavior.\n",
            "  _warn_prf(average, modifier, msg_start, len(result))\n"
          ]
        }
      ],
      "metadata": {
        "colab": {
          "base_uri": "https://localhost:8080/"
        },
        "id": "wvQPSxoo8493",
        "outputId": "d71ec7b2-febc-42af-eb25-3a210241eef6"
      }
    },
    {
      "cell_type": "code",
      "execution_count": 59,
      "source": [
        "# 3. Decision Tree \r\n",
        "\r\n",
        "algo3 = 'DecisionTreeClassifier'\r\n",
        "dt = DecisionTreeClassifier(criterion = 'entropy',random_state=10,max_depth = 30)\r\n",
        "dt.fit(train_x,train_y)\r\n",
        "dt_predicted = dt.predict(test_x)\r\n",
        "dt_conf_matrix = confusion_matrix(test_y, dt_predicted)\r\n",
        "dt_acc_score = accuracy_score(test_y, dt_predicted)\r\n",
        "print(\"confusion matrix\")\r\n",
        "print(dt_conf_matrix)\r\n",
        "print(\"\\n\")\r\n",
        "print(\"Accuracy of DecisionTreeClassifier:\",dt_acc_score*100,'\\n')\r\n",
        "print(classification_report(test_y,dt_predicted))"
      ],
      "outputs": [
        {
          "output_type": "stream",
          "name": "stdout",
          "text": [
            "confusion matrix\n",
            "[[340  19]\n",
            " [ 32  19]]\n",
            "\n",
            "\n",
            "Accuracy of DecisionTreeClassifier: 87.5609756097561 \n",
            "\n",
            "              precision    recall  f1-score   support\n",
            "\n",
            "           0       0.91      0.95      0.93       359\n",
            "           1       0.50      0.37      0.43        51\n",
            "\n",
            "    accuracy                           0.88       410\n",
            "   macro avg       0.71      0.66      0.68       410\n",
            "weighted avg       0.86      0.88      0.87       410\n",
            "\n"
          ]
        }
      ],
      "metadata": {
        "colab": {
          "base_uri": "https://localhost:8080/"
        },
        "id": "TjHe5kdSzHBN",
        "outputId": "4b1fb875-c0d5-455f-b5d6-8dfceee11233"
      }
    },
    {
      "cell_type": "code",
      "execution_count": 65,
      "source": [
        "# 4. Random Forest \r\n",
        "\r\n",
        "algo4 = 'Random Forest Classfier'\r\n",
        "rf = RandomForestClassifier(n_estimators=200, random_state=10,max_depth=15)\r\n",
        "rf.fit(train_x,train_y)\r\n",
        "rf_predicted = rf.predict(test_x)\r\n",
        "rf_conf_matrix = confusion_matrix(test_y, rf_predicted)\r\n",
        "rf_acc_score = accuracy_score(test_y, rf_predicted)\r\n",
        "print(\"confusion matrix\")\r\n",
        "print(rf_conf_matrix)\r\n",
        "print(\"\\n\")\r\n",
        "print(\"Accuracy of Random Forest:\",rf_acc_score*100,'\\n')\r\n",
        "print(classification_report(test_y,rf_predicted))"
      ],
      "outputs": [
        {
          "output_type": "stream",
          "name": "stdout",
          "text": [
            "confusion matrix\n",
            "[[351   8]\n",
            " [ 37  14]]\n",
            "\n",
            "\n",
            "Accuracy of Random Forest: 89.02439024390245 \n",
            "\n",
            "              precision    recall  f1-score   support\n",
            "\n",
            "           0       0.90      0.98      0.94       359\n",
            "           1       0.64      0.27      0.38        51\n",
            "\n",
            "    accuracy                           0.89       410\n",
            "   macro avg       0.77      0.63      0.66       410\n",
            "weighted avg       0.87      0.89      0.87       410\n",
            "\n"
          ]
        }
      ],
      "metadata": {
        "colab": {
          "base_uri": "https://localhost:8080/"
        },
        "id": "Qs0IlU1f-WiG",
        "outputId": "2569b897-561f-4dc9-8f45-27048954c6d4"
      }
    },
    {
      "cell_type": "code",
      "execution_count": 66,
      "source": [
        "# 5. Gradient Boosting \r\n",
        "\r\n",
        "algo5 = 'Gradient Boosting Classifier'\r\n",
        "gvc =  GradientBoostingClassifier()\r\n",
        "gvc.fit(train_x,train_y)\r\n",
        "gvc_predicted = gvc.predict(test_x)\r\n",
        "gvc_conf_matrix = confusion_matrix(test_y, gvc_predicted)\r\n",
        "gvc_acc_score = accuracy_score(test_y, gvc_predicted)\r\n",
        "print(\"confusion matrix\")\r\n",
        "print(gvc_conf_matrix)\r\n",
        "print(\"\\n\")\r\n",
        "print(\"Accuracy of Gradient Boosting Classifier:\",gvc_acc_score*100,'\\n')\r\n",
        "print(classification_report(test_y,gvc_predicted))"
      ],
      "outputs": [
        {
          "output_type": "stream",
          "name": "stdout",
          "text": [
            "confusion matrix\n",
            "[[350   9]\n",
            " [ 38  13]]\n",
            "\n",
            "\n",
            "Accuracy of Gradient Boosting Classifier: 88.53658536585365 \n",
            "\n",
            "              precision    recall  f1-score   support\n",
            "\n",
            "           0       0.90      0.97      0.94       359\n",
            "           1       0.59      0.25      0.36        51\n",
            "\n",
            "    accuracy                           0.89       410\n",
            "   macro avg       0.75      0.61      0.65       410\n",
            "weighted avg       0.86      0.89      0.86       410\n",
            "\n"
          ]
        }
      ],
      "metadata": {
        "colab": {
          "base_uri": "https://localhost:8080/"
        },
        "id": "VZ8nXmZ7-MXs",
        "outputId": "0ef5171b-be95-4850-a902-d2f2e9a00e6b"
      }
    },
    {
      "cell_type": "code",
      "execution_count": 72,
      "source": [
        "# 6. Neural Network\r\n",
        "\r\n",
        "algo6 = 'Neural Network'\r\n",
        "inputs = tf.keras.Input(shape=(X.shape[1]))\r\n",
        "x = tf.keras.layers.Dense(64, activation='relu')(inputs)\r\n",
        "x = tf.keras.layers.Dense(64, activation='relu')(x)\r\n",
        "outputs = tf.keras.layers.Dense(1, activation='sigmoid')(x)\r\n",
        "\r\n",
        "model = tf.keras.Model(inputs, outputs)\r\n",
        "\r\n",
        "\r\n",
        "model.compile(\r\n",
        "    optimizer='adam',\r\n",
        "    loss='binary_crossentropy',\r\n",
        "    metrics=[\r\n",
        "        'accuracy',\r\n",
        "        tf.keras.metrics.AUC(name='auc')\r\n",
        "    ]\r\n",
        ")\r\n",
        "\r\n",
        "\r\n",
        "history = model.fit(\r\n",
        "    train_x,\r\n",
        "    train_y,\r\n",
        "    validation_split=0.4,\r\n",
        "    batch_size=32,\r\n",
        "    epochs=100,\r\n",
        "    callbacks=[\r\n",
        "        tf.keras.callbacks.EarlyStopping(\r\n",
        "            monitor='val_loss',\r\n",
        "            patience=3,\r\n",
        "            restore_best_weights=True\r\n",
        "        )\r\n",
        "    ]\r\n",
        ")"
      ],
      "outputs": [
        {
          "output_type": "stream",
          "name": "stdout",
          "text": [
            "Epoch 1/100\n",
            "12/12 [==============================] - 1s 51ms/step - loss: 0.4850 - accuracy: 0.8828 - auc: 0.4982 - val_loss: 0.3566 - val_accuracy: 0.9268 - val_auc: 0.5436\n",
            "Epoch 2/100\n",
            "12/12 [==============================] - 0s 5ms/step - loss: 0.3844 - accuracy: 0.8828 - auc: 0.5017 - val_loss: 0.2783 - val_accuracy: 0.9268 - val_auc: 0.5599\n",
            "Epoch 3/100\n",
            "12/12 [==============================] - 0s 5ms/step - loss: 0.3655 - accuracy: 0.8828 - auc: 0.4943 - val_loss: 0.2677 - val_accuracy: 0.9268 - val_auc: 0.5652\n",
            "Epoch 4/100\n",
            "12/12 [==============================] - 0s 5ms/step - loss: 0.3672 - accuracy: 0.8828 - auc: 0.4870 - val_loss: 0.2670 - val_accuracy: 0.9268 - val_auc: 0.5799\n",
            "Epoch 5/100\n",
            "12/12 [==============================] - 0s 6ms/step - loss: 0.3636 - accuracy: 0.8828 - auc: 0.4929 - val_loss: 0.2710 - val_accuracy: 0.9268 - val_auc: 0.5916\n",
            "Epoch 6/100\n",
            "12/12 [==============================] - 0s 6ms/step - loss: 0.3619 - accuracy: 0.8828 - auc: 0.4964 - val_loss: 0.2729 - val_accuracy: 0.9268 - val_auc: 0.6009\n",
            "Epoch 7/100\n",
            "12/12 [==============================] - 0s 4ms/step - loss: 0.3609 - accuracy: 0.8828 - auc: 0.5102 - val_loss: 0.2737 - val_accuracy: 0.9268 - val_auc: 0.6082\n"
          ]
        }
      ],
      "metadata": {
        "id": "Z7iXxndH_7sj",
        "colab": {
          "base_uri": "https://localhost:8080/"
        },
        "outputId": "03719300-2364-4919-9b04-700d4844b82c"
      }
    },
    {
      "cell_type": "code",
      "execution_count": 73,
      "source": [
        "model.evaluate(test_x, test_y)"
      ],
      "outputs": [
        {
          "output_type": "stream",
          "name": "stdout",
          "text": [
            "13/13 [==============================] - 0s 2ms/step - loss: 0.3830 - accuracy: 0.8756 - auc: 0.5041\n"
          ]
        },
        {
          "output_type": "execute_result",
          "data": {
            "text/plain": [
              "[0.3830440938472748, 0.8756097555160522, 0.5040963888168335]"
            ]
          },
          "metadata": {
            "tags": []
          },
          "execution_count": 73
        }
      ],
      "metadata": {
        "colab": {
          "base_uri": "https://localhost:8080/"
        },
        "id": "95v3vzdcG-sP",
        "outputId": "c2ea4375-a8a8-400a-df6c-2e0d0d3b9632"
      }
    },
    {
      "cell_type": "code",
      "execution_count": 74,
      "source": [
        "y_true = np.array(test_y)\r\n",
        "y_pred = np.squeeze(np.array(model.predict(test_x) >= 0.5, dtype=np.int))"
      ],
      "outputs": [],
      "metadata": {
        "id": "VfNCQ5piHFIr"
      }
    },
    {
      "cell_type": "code",
      "execution_count": 75,
      "source": [
        "nn_conf_matrix = confusion_matrix(y_true, y_pred)\r\n",
        "nn_acc_score = accuracy_score(y_true, y_pred)\r\n",
        "print(\"confusion matrix\")\r\n",
        "print(gvc_conf_matrix)\r\n",
        "print(\"\\n\")\r\n",
        "print(\"Accuracy of Neural Network:\",nn_acc_score*100,'\\n')\r\n",
        "print(classification_report(y_true, y_pred))"
      ],
      "outputs": [
        {
          "output_type": "stream",
          "name": "stdout",
          "text": [
            "confusion matrix\n",
            "[[350   9]\n",
            " [ 38  13]]\n",
            "\n",
            "\n",
            "Accuracy of Neural Network: 87.5609756097561 \n",
            "\n",
            "              precision    recall  f1-score   support\n",
            "\n",
            "           0       0.88      1.00      0.93       359\n",
            "           1       0.00      0.00      0.00        51\n",
            "\n",
            "    accuracy                           0.88       410\n",
            "   macro avg       0.44      0.50      0.47       410\n",
            "weighted avg       0.77      0.88      0.82       410\n",
            "\n"
          ]
        },
        {
          "output_type": "stream",
          "name": "stderr",
          "text": [
            "/usr/local/lib/python3.7/dist-packages/sklearn/metrics/_classification.py:1272: UndefinedMetricWarning: Precision and F-score are ill-defined and being set to 0.0 in labels with no predicted samples. Use `zero_division` parameter to control this behavior.\n",
            "  _warn_prf(average, modifier, msg_start, len(result))\n"
          ]
        }
      ],
      "metadata": {
        "id": "IM43qwX3AZ82",
        "colab": {
          "base_uri": "https://localhost:8080/"
        },
        "outputId": "2d4abbb0-938a-430c-f05c-934c0f4ddfa0"
      }
    },
    {
      "cell_type": "markdown",
      "source": [
        "## Model Evaluation"
      ],
      "metadata": {
        "id": "Wh4CcToOSMk5"
      }
    },
    {
      "cell_type": "code",
      "execution_count": 76,
      "source": [
        "#Evaluating all the Algorithms at once.\r\n",
        "\r\n",
        "model_ev = pd.DataFrame({'Model': ['Logistic Regression','MultinomialNB','Decision Tree','Random Forest',\r\n",
        "                                  'Gradient Boosting','Neural Network'], \r\n",
        "                         'Accuracy': [lr_acc_score*100, nv_acc_score*100, dt_acc_score*100, rf_acc_score*100,gvc_acc_score*100,\r\n",
        "                                      nn_acc_score*100]})\r\n",
        "model_ev"
      ],
      "outputs": [
        {
          "output_type": "execute_result",
          "data": {
            "text/plain": [
              "                 Model   Accuracy\n",
              "0  Logistic Regression  87.560976\n",
              "1        MultinomialNB  87.560976\n",
              "2        Decision Tree  87.560976\n",
              "3        Random Forest  89.024390\n",
              "4    Gradient Boosting  88.536585\n",
              "5       Neural Network  87.560976"
            ],
            "text/html": [
              "<div>\n",
              "<style scoped>\n",
              "    .dataframe tbody tr th:only-of-type {\n",
              "        vertical-align: middle;\n",
              "    }\n",
              "\n",
              "    .dataframe tbody tr th {\n",
              "        vertical-align: top;\n",
              "    }\n",
              "\n",
              "    .dataframe thead th {\n",
              "        text-align: right;\n",
              "    }\n",
              "</style>\n",
              "<table border=\"1\" class=\"dataframe\">\n",
              "  <thead>\n",
              "    <tr style=\"text-align: right;\">\n",
              "      <th></th>\n",
              "      <th>Model</th>\n",
              "      <th>Accuracy</th>\n",
              "    </tr>\n",
              "  </thead>\n",
              "  <tbody>\n",
              "    <tr>\n",
              "      <th>0</th>\n",
              "      <td>Logistic Regression</td>\n",
              "      <td>87.560976</td>\n",
              "    </tr>\n",
              "    <tr>\n",
              "      <th>1</th>\n",
              "      <td>MultinomialNB</td>\n",
              "      <td>87.560976</td>\n",
              "    </tr>\n",
              "    <tr>\n",
              "      <th>2</th>\n",
              "      <td>Decision Tree</td>\n",
              "      <td>87.560976</td>\n",
              "    </tr>\n",
              "    <tr>\n",
              "      <th>3</th>\n",
              "      <td>Random Forest</td>\n",
              "      <td>89.024390</td>\n",
              "    </tr>\n",
              "    <tr>\n",
              "      <th>4</th>\n",
              "      <td>Gradient Boosting</td>\n",
              "      <td>88.536585</td>\n",
              "    </tr>\n",
              "    <tr>\n",
              "      <th>5</th>\n",
              "      <td>Neural Network</td>\n",
              "      <td>87.560976</td>\n",
              "    </tr>\n",
              "  </tbody>\n",
              "</table>\n",
              "</div>"
            ]
          },
          "metadata": {
            "tags": []
          },
          "execution_count": 76
        }
      ],
      "metadata": {
        "colab": {
          "base_uri": "https://localhost:8080/",
          "height": 233
        },
        "id": "0E6sUgZ_HVUt",
        "outputId": "f1cc25b2-3339-4b51-88d3-927648825a4c"
      }
    },
    {
      "cell_type": "markdown",
      "source": [
        "## Final Random Forest Classifier Model\n"
      ],
      "metadata": {
        "id": "ZZtJLVdxSZ2L"
      }
    },
    {
      "cell_type": "code",
      "execution_count": 77,
      "source": [
        "# Deciding the algorithm to use\r\n",
        "\r\n",
        "model = RandomForestClassifier(n_estimators=200, random_state=0,max_depth=12)\r\n",
        "model.fit(train_x,train_y)\r\n",
        "predicted = model.predict(test_x)\r\n",
        "accuracy = accuracy_score(test_y, rf_predicted)\r\n",
        "print(\"Accuracy of Random Forest:\",accuracy*100,'\\n')\r\n"
      ],
      "outputs": [
        {
          "output_type": "stream",
          "name": "stdout",
          "text": [
            "Accuracy of Random Forest: 89.02439024390245 \n",
            "\n"
          ]
        }
      ],
      "metadata": {
        "colab": {
          "base_uri": "https://localhost:8080/"
        },
        "id": "RUmwAP-lH7IF",
        "outputId": "c09f74fb-336b-4a8d-dbc6-53452745032b"
      }
    },
    {
      "cell_type": "markdown",
      "source": [
        "## Conclusion\r\n",
        "Therefore, Random Forest Classifier Model performs best among all models on the given dataset."
      ],
      "metadata": {
        "id": "3P3LCXnSSf9z"
      }
    }
  ]
}